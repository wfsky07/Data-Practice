{
 "cells": [
  {
   "cell_type": "markdown",
   "metadata": {},
   "source": [
    "# 파이썬 기반의 AI를 위한 기초수학, 확률및통계"
   ]
  },
  {
   "cell_type": "code",
   "execution_count": 1,
   "metadata": {},
   "outputs": [],
   "source": [
    "## 강봉주 \n",
    "## bonjour.kang@gmail.com\n",
    "##\n",
    "## 다중 선형회귀분석\n",
    "##"
   ]
  },
  {
   "cell_type": "code",
   "execution_count": 2,
   "metadata": {},
   "outputs": [
    {
     "data": {
      "text/plain": [
       "'0.10.1'"
      ]
     },
     "execution_count": 2,
     "metadata": {},
     "output_type": "execute_result"
    }
   ],
   "source": [
    "# 필요한 패키지\n",
    "import numpy as np\n",
    "import matplotlib.pyplot as plt\n",
    "import pandas as pd\n",
    "\n",
    "# import scipy\n",
    "from scipy import linalg as la\n",
    "import scipy.stats as ss\n",
    "import scipy.special\n",
    "\n",
    "# 한글출력\n",
    "plt.rcParams['font.family'] = 'Malgun Gothic'\n",
    "plt.rcParams['axes.unicode_minus'] = False\n",
    "\n",
    "# 필요한 패키지 2\n",
    "import statsmodels.formula.api as smf\n",
    "import statsmodels.api as sm\n",
    "\n",
    "sm.__version__"
   ]
  },
  {
   "cell_type": "code",
   "execution_count": 3,
   "metadata": {},
   "outputs": [
    {
     "data": {
      "text/plain": [
       "(506, 14)"
      ]
     },
     "execution_count": 3,
     "metadata": {},
     "output_type": "execute_result"
    }
   ],
   "source": [
    "# 데이터 구성: [HOUSING]\n",
    "# 경로 정의\n",
    "url = \"https://archive.ics.uci.edu/ml/machine-learning-databases/housing/housing.data\"\n",
    "df = pd.read_csv(url,sep='\\s+',  header=None)\n",
    "\n",
    "# 컬럼 정보 주기\n",
    "df.columns = ['CRIM', 'ZN', 'INDUS', 'CHAS', 'NOX',\n",
    "              'RM', 'AGE', 'DIS', 'RAD', 'TAX', 'PTRATIO', 'B', 'LSTAT', 'MEDV']\n",
    "df.columns = df.columns.str.lower()\n",
    "\n",
    "# 데이터 확인\n",
    "df.shape"
   ]
  },
  {
   "cell_type": "markdown",
   "metadata": {},
   "source": [
    "## 모수의 추정"
   ]
  },
  {
   "cell_type": "code",
   "execution_count": 4,
   "metadata": {},
   "outputs": [
    {
     "data": {
      "text/plain": [
       "(100, 4)"
      ]
     },
     "execution_count": 4,
     "metadata": {},
     "output_type": "execute_result"
    }
   ],
   "source": [
    "# 표본 크기\n",
    "size = 100\n",
    "\n",
    "# 씨앗값 정의\n",
    "np.random.seed(123)\n",
    "index = np.random.choice(np.arange(len(df)), size=size, replace=False)\n",
    "\n",
    "# 표본 구성\n",
    "xvars = ['rm', 'age', 'lstat']\n",
    "target ='medv'\n",
    "sdf = df.loc[index, xvars+[target]]\n",
    "sdf.shape"
   ]
  },
  {
   "cell_type": "code",
   "execution_count": 5,
   "metadata": {
    "scrolled": true
   },
   "outputs": [],
   "source": [
    "# 1 벡터를 추가하는 방법\n",
    "X = sdf[xvars]\n",
    "X = np.concatenate(((np.ones(len(X))[:, np.newaxis]), X),  axis=1)"
   ]
  },
  {
   "cell_type": "code",
   "execution_count": 6,
   "metadata": {},
   "outputs": [
    {
     "name": "stderr",
     "output_type": "stream",
     "text": [
      "C:\\ProgramData\\Anaconda3\\lib\\site-packages\\numpy\\core\\fromnumeric.py:2495: FutureWarning: Method .ptp is deprecated and will be removed in a future version. Use numpy.ptp instead.\n",
      "  return ptp(axis=axis, out=out, **kwargs)\n"
     ]
    },
    {
     "data": {
      "text/plain": [
       "array([ 1.3063e+01,  2.9310e+00,  3.0000e-03, -7.1100e-01])"
      ]
     },
     "execution_count": 6,
     "metadata": {},
     "output_type": "execute_result"
    }
   ],
   "source": [
    "## QR 분해를 통한 모수의 추정\n",
    "X = sdf[xvars]\n",
    "X = sm.add_constant(X).values\n",
    "y = sdf[target].values\n",
    "Q, R = la.qr(X.T@X)\n",
    "\n",
    "beta = la.inv(R) @ Q.T @ X.T @ y\n",
    "beta.round(3)"
   ]
  },
  {
   "cell_type": "code",
   "execution_count": 7,
   "metadata": {},
   "outputs": [
    {
     "data": {
      "text/plain": [
       "'medv~rm+age+lstat'"
      ]
     },
     "execution_count": 7,
     "metadata": {},
     "output_type": "execute_result"
    }
   ],
   "source": [
    "## statsmodels 에 의한 모수의 추정\n",
    "# 기호식 구성\n",
    "fmla = target + '~' + '+'.join(xvars)\n",
    "fmla"
   ]
  },
  {
   "cell_type": "code",
   "execution_count": 8,
   "metadata": {},
   "outputs": [
    {
     "data": {
      "text/plain": [
       "Intercept    13.063\n",
       "rm            2.931\n",
       "age           0.003\n",
       "lstat        -0.711\n",
       "dtype: float64"
      ]
     },
     "execution_count": 8,
     "metadata": {},
     "output_type": "execute_result"
    }
   ],
   "source": [
    "# 적합\n",
    "fit = smf.ols(fmla, data=sdf).fit()\n",
    "fit.params.round(3)"
   ]
  },
  {
   "cell_type": "markdown",
   "metadata": {},
   "source": [
    "## 오차 분산의 추정"
   ]
  },
  {
   "cell_type": "code",
   "execution_count": 9,
   "metadata": {},
   "outputs": [
    {
     "data": {
      "text/plain": [
       "41.496"
      ]
     },
     "execution_count": 9,
     "metadata": {},
     "output_type": "execute_result"
    }
   ],
   "source": [
    "# 직접 계산\n",
    "H = X @ la.inv(X.T @ X) @ X.T\n",
    "n = H.shape[0]\n",
    "p = 1 + 3\n",
    "I = np.identity(n)\n",
    "MSE = 1/(n - p) * y.T @ (I-H) @ y\n",
    "MSE.round(3)"
   ]
  },
  {
   "cell_type": "code",
   "execution_count": 10,
   "metadata": {
    "scrolled": true
   },
   "outputs": [
    {
     "data": {
      "text/plain": [
       "41.496"
      ]
     },
     "execution_count": 10,
     "metadata": {},
     "output_type": "execute_result"
    }
   ],
   "source": [
    "# 결과 확인\n",
    "fit.mse_resid.round(3)"
   ]
  },
  {
   "cell_type": "markdown",
   "metadata": {},
   "source": [
    "## 모수의 추론"
   ]
  },
  {
   "cell_type": "code",
   "execution_count": 11,
   "metadata": {},
   "outputs": [
    {
     "name": "stderr",
     "output_type": "stream",
     "text": [
      "C:\\ProgramData\\Anaconda3\\lib\\site-packages\\ipykernel_launcher.py:3: RuntimeWarning: invalid value encountered in sqrt\n",
      "  This is separate from the ipykernel package so we can avoid doing imports until\n"
     ]
    },
    {
     "data": {
      "text/plain": [
       "array([[ 1.40846797],\n",
       "       [ 2.20709057],\n",
       "       [ 0.08976109],\n",
       "       [-4.61866789]])"
      ]
     },
     "execution_count": 11,
     "metadata": {},
     "output_type": "execute_result"
    }
   ],
   "source": [
    "# 검정 통계량 계산\n",
    "beta_hat = la.inv(X.T @ X) @ X.T @ y\n",
    "D = np.sqrt(la.inv(X.T @ X))\n",
    "\n",
    "t_zero = beta_hat[:, np.newaxis] / (np.diag(D).reshape(-1, 1) * np.sqrt(MSE))\n",
    "t_zero"
   ]
  },
  {
   "cell_type": "code",
   "execution_count": 12,
   "metadata": {},
   "outputs": [
    {
     "data": {
      "text/plain": [
       "Intercept    1.408468\n",
       "rm           2.207091\n",
       "age          0.089761\n",
       "lstat       -4.618668\n",
       "dtype: float64"
      ]
     },
     "execution_count": 12,
     "metadata": {},
     "output_type": "execute_result"
    }
   ],
   "source": [
    "# 결과 확인\n",
    "fit.tvalues"
   ]
  },
  {
   "cell_type": "code",
   "execution_count": 13,
   "metadata": {},
   "outputs": [
    {
     "data": {
      "text/plain": [
       "array([[1.62223028e-01],\n",
       "       [2.96907987e-02],\n",
       "       [9.28664075e-01],\n",
       "       [1.19892794e-05]])"
      ]
     },
     "execution_count": 13,
     "metadata": {},
     "output_type": "execute_result"
    }
   ],
   "source": [
    "# p-values 계산\n",
    "pvalue = 2*(1 - ss.t.cdf(np.abs(t_zero), df=n-p))\n",
    "pvalue"
   ]
  },
  {
   "cell_type": "code",
   "execution_count": 14,
   "metadata": {},
   "outputs": [
    {
     "data": {
      "text/plain": [
       "Intercept    0.162223\n",
       "rm           0.029691\n",
       "age          0.928664\n",
       "lstat        0.000012\n",
       "dtype: float64"
      ]
     },
     "execution_count": 14,
     "metadata": {},
     "output_type": "execute_result"
    }
   ],
   "source": [
    "# 결과 확인\n",
    "fit.pvalues"
   ]
  },
  {
   "cell_type": "markdown",
   "metadata": {},
   "source": [
    "## 회귀직선의 유의성 검증"
   ]
  },
  {
   "cell_type": "code",
   "execution_count": 15,
   "metadata": {},
   "outputs": [
    {
     "data": {
      "text/plain": [
       "[100, 4]"
      ]
     },
     "execution_count": 15,
     "metadata": {},
     "output_type": "execute_result"
    }
   ],
   "source": [
    "# 변수 정의\n",
    "xvars = ['rm', 'age', 'lstat']\n",
    "target ='medv'\n",
    "\n",
    "# 자유도 정의\n",
    "n = len(sdf)\n",
    "p = len(xvars) +1\n",
    "[n, p]"
   ]
  },
  {
   "cell_type": "code",
   "execution_count": 16,
   "metadata": {},
   "outputs": [
    {
     "data": {
      "text/plain": [
       "array([  41.496, 1468.649])"
      ]
     },
     "execution_count": 16,
     "metadata": {},
     "output_type": "execute_result"
    }
   ],
   "source": [
    "# 제곱합 계산\n",
    "y = sdf[target]\n",
    "SSE = np.sum((y - fit.fittedvalues)**2)\n",
    "SST = np.sum((y - np.mean(y))**2)\n",
    "SSR = SST - SSE\n",
    "\n",
    "MSE = SSE / (n-p)\n",
    "MSR = SSR / (p-1)\n",
    "np.round([MSE, MSR], 3)"
   ]
  },
  {
   "cell_type": "code",
   "execution_count": 17,
   "metadata": {},
   "outputs": [
    {
     "data": {
      "text/plain": [
       "array([35.392,  0.   ])"
      ]
     },
     "execution_count": 17,
     "metadata": {},
     "output_type": "execute_result"
    }
   ],
   "source": [
    "#  F 값 계산\n",
    "f_zero = MSR/MSE\n",
    "\n",
    "# p-value 계산\n",
    "pvalue = 1 - ss.f.cdf(f_zero, dfn=p-1, dfd=n-p)\n",
    "\n",
    "np.round([f_zero, pvalue], 3)"
   ]
  },
  {
   "cell_type": "code",
   "execution_count": 18,
   "metadata": {},
   "outputs": [
    {
     "data": {
      "text/plain": [
       "array([35.392,  0.   ])"
      ]
     },
     "execution_count": 18,
     "metadata": {},
     "output_type": "execute_result"
    }
   ],
   "source": [
    "# 결과 확인\n",
    "np.round([fit.fvalue, fit.f_pvalue], 3)"
   ]
  },
  {
   "cell_type": "markdown",
   "metadata": {},
   "source": [
    "## 오차 가정 검증"
   ]
  },
  {
   "cell_type": "markdown",
   "metadata": {},
   "source": [
    "### 모자 행렬의 성질"
   ]
  },
  {
   "cell_type": "code",
   "execution_count": 19,
   "metadata": {},
   "outputs": [
    {
     "data": {
      "text/plain": [
       "(100, 100)"
      ]
     },
     "execution_count": 19,
     "metadata": {},
     "output_type": "execute_result"
    }
   ],
   "source": [
    "# 모자 행렬의 생성\n",
    "H = X @ la.inv(X.T@X) @ X.T\n",
    "H.shape"
   ]
  },
  {
   "cell_type": "code",
   "execution_count": 20,
   "metadata": {},
   "outputs": [
    {
     "data": {
      "text/plain": [
       "100"
      ]
     },
     "execution_count": 20,
     "metadata": {},
     "output_type": "execute_result"
    }
   ],
   "source": [
    "# 성질 확인\n",
    "n  = len(H)\n",
    "\n",
    "# 모두 1/n 보다 크거나 같고 1보다 작거나 같은가?\n",
    "np.sum((np.diag(H) >= 1/n) & (np.diag(H)<= 1) )"
   ]
  },
  {
   "cell_type": "code",
   "execution_count": 21,
   "metadata": {},
   "outputs": [
    {
     "data": {
      "text/plain": [
       "10000"
      ]
     },
     "execution_count": 21,
     "metadata": {},
     "output_type": "execute_result"
    }
   ],
   "source": [
    "# 대각원소를 제외한 모든 원소가 -0.5와 0.5사이에 있는가?\n",
    "diag_zero_H = H.copy()\n",
    "np.fill_diagonal(diag_zero_H, 0)\n",
    "\n",
    "# 전체 원소가 참\n",
    "np.sum((diag_zero_H >= -0.5) & (diag_zero_H <= 0.5))"
   ]
  },
  {
   "cell_type": "code",
   "execution_count": 22,
   "metadata": {},
   "outputs": [
    {
     "data": {
      "text/plain": [
       "4.0"
      ]
     },
     "execution_count": 22,
     "metadata": {},
     "output_type": "execute_result"
    }
   ],
   "source": [
    "# 대각합은 변수의 개수 +1 인가?\n",
    "np.trace(H).round()"
   ]
  },
  {
   "cell_type": "code",
   "execution_count": 23,
   "metadata": {},
   "outputs": [
    {
     "data": {
      "text/plain": [
       "array([-1.289, -0.219])"
      ]
     },
     "execution_count": 23,
     "metadata": {},
     "output_type": "execute_result"
    }
   ],
   "source": [
    "# n, p 정의\n",
    "n = H.shape[0]\n",
    "p = 4\n",
    "\n",
    "# 잔차, MSE 계산\n",
    "I = np.identity(n)\n",
    "resid = (I - H) @ y\n",
    "mse = resid.T @ resid / (n-p)\n",
    "h_diag = np.diag(H)\n",
    "\n",
    "# 표준화 잔차 계산\n",
    "t = resid / (np.sqrt(mse) * np.sqrt(1 - h_diag))\n",
    "t[:2].round(3)"
   ]
  },
  {
   "cell_type": "code",
   "execution_count": 24,
   "metadata": {},
   "outputs": [
    {
     "data": {
      "text/plain": [
       "array([-1.289, -0.219])"
      ]
     },
     "execution_count": 24,
     "metadata": {},
     "output_type": "execute_result"
    }
   ],
   "source": [
    "# 적합 모델에서 영향점, 이상점 분석을 위한 인스턴스 정의\n",
    "rdg = fit.get_influence()\n",
    "\n",
    "# 표준화 잔차 결과 확인\n",
    "rdg.resid_studentized[:2].round(3)"
   ]
  },
  {
   "cell_type": "markdown",
   "metadata": {},
   "source": [
    "## 이상점 판정"
   ]
  },
  {
   "cell_type": "code",
   "execution_count": 25,
   "metadata": {},
   "outputs": [
    {
     "data": {
      "image/png": "[encoded data removed]",
      "text/plain": [
       "<Figure size 504x504 with 1 Axes>"
      ]
     },
     "metadata": {
      "needs_background": "light"
     },
     "output_type": "display_data"
    }
   ],
   "source": [
    "# 데이터 구성\n",
    "np.random.seed(0)\n",
    "x = np.random.normal(scale=2, size=8)\n",
    "x = np.concatenate([x, [-2]])\n",
    "y = 2 + 0.2*x + np.random.normal(size=9)\n",
    "\n",
    "# 적합\n",
    "sfit = sm.OLS(y, sm.add_constant(x)).fit()\n",
    "\n",
    "# 그래프 표현\n",
    "fig, ax = plt.subplots(figsize=(7, 7))\n",
    "ax.scatter(x, y, color='none')\n",
    "ax.set_xlabel('x')\n",
    "ax.set_ylabel('y')\n",
    "miny = sfit.predict([1, np.min(x)])\n",
    "maxy = sfit.predict([1, np.max(x)])\n",
    "ax.plot([np.min(x),np.max(x)], [miny, maxy], ls='dotted', label='적합된 회귀직선')\n",
    "for i, (x1, y1) in enumerate(zip(x, y)):\n",
    "    ax.annotate(str(i), (x1, y1), ha='center', va='center', fontsize=20)\n",
    "\n",
    "plt.legend(frameon=False)\n",
    "\n",
    "plt.tight_layout()"
   ]
  },
  {
   "cell_type": "code",
   "execution_count": 26,
   "metadata": {},
   "outputs": [
    {
     "name": "stdout",
     "output_type": "stream",
     "text": [
      "   standard_resid  student_resid\n",
      "0       -1.256752      -1.322216\n",
      "1       -0.258594      -0.240563\n",
      "2       -0.737492      -0.710964\n",
      "3        1.739347       2.137032\n",
      "4        0.344098       0.321302\n",
      "5       -0.851857      -0.833026\n",
      "6       -0.212793      -0.197648\n",
      "7       -0.392486      -0.367437\n",
      "8        1.945842       2.658769\n"
     ]
    }
   ],
   "source": [
    "# 이상점 파악\n",
    "print(sfit.get_influence().summary_frame()[['standard_resid','student_resid']])"
   ]
  },
  {
   "cell_type": "code",
   "execution_count": 27,
   "metadata": {
    "scrolled": true
   },
   "outputs": [
    {
     "data": {
      "text/html": [
       "<div>\n",
       "<style scoped>\n",
       "    .dataframe tbody tr th:only-of-type {\n",
       "        vertical-align: middle;\n",
       "    }\n",
       "\n",
       "    .dataframe tbody tr th {\n",
       "        vertical-align: top;\n",
       "    }\n",
       "\n",
       "    .dataframe thead th {\n",
       "        text-align: right;\n",
       "    }\n",
       "</style>\n",
       "<table border=\"1\" class=\"dataframe\">\n",
       "  <thead>\n",
       "    <tr style=\"text-align: right;\">\n",
       "      <th></th>\n",
       "      <th>rm</th>\n",
       "      <th>age</th>\n",
       "      <th>lstat</th>\n",
       "      <th>medv</th>\n",
       "    </tr>\n",
       "  </thead>\n",
       "  <tbody>\n",
       "    <tr>\n",
       "      <th>372</th>\n",
       "      <td>5.875</td>\n",
       "      <td>89.6</td>\n",
       "      <td>8.88</td>\n",
       "      <td>50.0</td>\n",
       "    </tr>\n",
       "    <tr>\n",
       "      <th>369</th>\n",
       "      <td>6.683</td>\n",
       "      <td>96.8</td>\n",
       "      <td>3.73</td>\n",
       "      <td>50.0</td>\n",
       "    </tr>\n",
       "    <tr>\n",
       "      <th>162</th>\n",
       "      <td>7.802</td>\n",
       "      <td>98.2</td>\n",
       "      <td>1.92</td>\n",
       "      <td>50.0</td>\n",
       "    </tr>\n",
       "    <tr>\n",
       "      <th>374</th>\n",
       "      <td>4.138</td>\n",
       "      <td>100.0</td>\n",
       "      <td>37.97</td>\n",
       "      <td>13.8</td>\n",
       "    </tr>\n",
       "  </tbody>\n",
       "</table>\n",
       "</div>"
      ],
      "text/plain": [
       "        rm    age  lstat  medv\n",
       "372  5.875   89.6   8.88  50.0\n",
       "369  6.683   96.8   3.73  50.0\n",
       "162  7.802   98.2   1.92  50.0\n",
       "374  4.138  100.0  37.97  13.8"
      ]
     },
     "execution_count": 27,
     "metadata": {},
     "output_type": "execute_result"
    }
   ],
   "source": [
    "# 예제: 이상점 찾기\n",
    "\n",
    "# 표준화 잔차\n",
    "rdg = fit.get_influence()\n",
    "t = rdg.resid_studentized\n",
    "\n",
    "# 조건 충족하는 경계값 찾기\n",
    "alpha = 0.05\n",
    "cutoff = np.quantile(np.abs(t), q=1-alpha)\n",
    "\n",
    "# 해당 관측값 찾기\n",
    "sig_index = np.where(t >= cutoff)\n",
    "# sig_index\n",
    "sdf.iloc[sig_index]"
   ]
  },
  {
   "cell_type": "markdown",
   "metadata": {},
   "source": [
    "## 영향점 판정"
   ]
  },
  {
   "cell_type": "code",
   "execution_count": 28,
   "metadata": {},
   "outputs": [
    {
     "data": {
      "text/plain": [
       "0.444"
      ]
     },
     "execution_count": 28,
     "metadata": {},
     "output_type": "execute_result"
    }
   ],
   "source": [
    "# 지렛대 경계값 구하기\n",
    "k = 1\n",
    "n = 9\n",
    "lvg_cut = 2*(k+1)/n\n",
    "np.round(lvg_cut, 3)"
   ]
  },
  {
   "cell_type": "code",
   "execution_count": 29,
   "metadata": {},
   "outputs": [
    {
     "data": {
      "text/plain": [
       "0    0.214\n",
       "1    0.118\n",
       "2    0.119\n",
       "3    0.324\n",
       "4    0.235\n",
       "5    0.348\n",
       "6    0.118\n",
       "7    0.170\n",
       "8    0.355\n",
       "Name: hat_diag, dtype: float64"
      ]
     },
     "execution_count": 29,
     "metadata": {},
     "output_type": "execute_result"
    }
   ],
   "source": [
    "# 지렛대 값 계산\n",
    "lvg = sfit.get_influence().summary_frame()['hat_diag']\n",
    "lvg.round(3)"
   ]
  },
  {
   "cell_type": "code",
   "execution_count": 30,
   "metadata": {},
   "outputs": [
    {
     "data": {
      "image/png": "[encoded data removed]",
      "text/plain": [
       "<Figure size 504x504 with 1 Axes>"
      ]
     },
     "metadata": {
      "needs_background": "light"
     },
     "output_type": "display_data"
    }
   ],
   "source": [
    "# 그래프 표현\n",
    "fig, ax = plt.subplots(figsize=(7, 7))\n",
    "\n",
    "ax.scatter(np.arange(n), lvg, color='none')\n",
    "ax.set_xlabel('관측번호')\n",
    "ax.set_ylabel('지렛대값')\n",
    "\n",
    "for i, (x1, y1) in enumerate(zip(np.arange(n), lvg)):\n",
    "    ax.annotate(str(i), (x1, y1), ha='center', va='center', fontsize=20)\n",
    "\n",
    "ax.axhline(y=lvg_cut, ls=':',color='red', label='레버지리 경계선')\n",
    "\n",
    "plt.legend(frameon=False)\n",
    "plt.tight_layout()"
   ]
  },
  {
   "cell_type": "code",
   "execution_count": 31,
   "metadata": {},
   "outputs": [
    {
     "data": {
      "text/plain": [
       "0    0.215\n",
       "1    0.004\n",
       "2    0.037\n",
       "3    0.725\n",
       "4    0.018\n",
       "5    0.194\n",
       "6    0.003\n",
       "7    0.016\n",
       "8    1.040\n",
       "Name: cooks_d, dtype: float64"
      ]
     },
     "execution_count": 31,
     "metadata": {},
     "output_type": "execute_result"
    }
   ],
   "source": [
    "# 쿡의 거리\n",
    "cooks_d = sfit.get_influence().summary_frame()['cooks_d']\n",
    "cooks_d.round(3)"
   ]
  },
  {
   "cell_type": "code",
   "execution_count": 32,
   "metadata": {},
   "outputs": [
    {
     "name": "stderr",
     "output_type": "stream",
     "text": [
      "C:\\ProgramData\\Anaconda3\\lib\\site-packages\\numpy\\core\\fromnumeric.py:2495: FutureWarning: Method .ptp is deprecated and will be removed in a future version. Use numpy.ptp instead.\n",
      "  return ptp(axis=axis, out=out, **kwargs)\n"
     ]
    },
    {
     "data": {
      "text/plain": [
       "array([0.031, 0.   , 0.058])"
      ]
     },
     "execution_count": 32,
     "metadata": {},
     "output_type": "execute_result"
    }
   ],
   "source": [
    "# 쿡의 거리 계산 \n",
    "\n",
    "# n, p 정의\n",
    "n = sdf.shape[0]\n",
    "p = sdf.shape[1]\n",
    "\n",
    "# X, y 행렬 정의\n",
    "X = sdf[xvars]\n",
    "X = sm.add_constant(X).values\n",
    "y = sdf[target].values\n",
    "\n",
    "# 모자 행렬의 생성\n",
    "H = X @ la.inv(X.T@X) @ X.T\n",
    "H.shape\n",
    "\n",
    "# 잔차, MSE 계산\n",
    "I = np.identity(n)\n",
    "resid = (I - H) @ y\n",
    "mse = resid.T @ resid / (n-p)\n",
    "h_diag = np.diag(H)\n",
    "\n",
    "# 표준화 잔차 계산\n",
    "t = resid / (np.sqrt(mse) * np.sqrt(1 - h_diag))\n",
    "\n",
    "# 쿡의 거리 계산\n",
    "D = (t**2 / (p)) * (h_diag / (1-h_diag))\n",
    "D[:3].round(3)"
   ]
  },
  {
   "cell_type": "code",
   "execution_count": 33,
   "metadata": {},
   "outputs": [
    {
     "data": {
      "text/plain": [
       "array([0.031, 0.   , 0.058])"
      ]
     },
     "execution_count": 33,
     "metadata": {},
     "output_type": "execute_result"
    }
   ],
   "source": [
    "# 쿡의 거리 확인\n",
    "rdg = fit.get_influence()\n",
    "cookd, _ = rdg.cooks_distance\n",
    "cookd[:3].round(3)"
   ]
  },
  {
   "cell_type": "code",
   "execution_count": 34,
   "metadata": {},
   "outputs": [
    {
     "name": "stdout",
     "output_type": "stream",
     "text": [
      "Empty DataFrame\n",
      "Columns: [rm, age, lstat, medv]\n",
      "Index: []\n"
     ]
    }
   ],
   "source": [
    "# 영향점 찾기\n",
    "sig_index = np.where(cookd  > 1)\n",
    "print(sdf.iloc[sig_index])"
   ]
  },
  {
   "cell_type": "markdown",
   "metadata": {},
   "source": [
    "## 다중 공선성의 판정"
   ]
  },
  {
   "cell_type": "code",
   "execution_count": 35,
   "metadata": {},
   "outputs": [
    {
     "data": {
      "text/plain": [
       "[('rm', 2.078), ('age', 1.613), ('lstat', 2.927)]"
      ]
     },
     "execution_count": 35,
     "metadata": {},
     "output_type": "execute_result"
    }
   ],
   "source": [
    "# 필요한 패키지\n",
    "from statsmodels.stats.outliers_influence import variance_inflation_factor\n",
    "\n",
    "# 다중 공선성 계산\n",
    "xvars = ['rm', 'age', 'lstat']\n",
    "\n",
    "# 절편 추가\n",
    "X = np.concatenate((np.ones(len(sdf))[:, np.newaxis], sdf[xvars].values), axis=1)\n",
    "\n",
    "# vif 계산\n",
    "vif = [(var, variance_inflation_factor(X, i+1).round(3)) for i, var in enumerate(sdf[xvars].columns)]\n",
    "vif"
   ]
  }
 ],
 "metadata": {
  "kernelspec": {
   "display_name": "Python 3",
   "language": "python",
   "name": "python3"
  },
  "language_info": {
   "codemirror_mode": {
    "name": "ipython",
    "version": 3
   },
   "file_extension": ".py",
   "mimetype": "text/x-python",
   "name": "python",
   "nbconvert_exporter": "python",
   "pygments_lexer": "ipython3",
   "version": "3.7.6"
  }
 },
 "nbformat": 4,
 "nbformat_minor": 2
}
