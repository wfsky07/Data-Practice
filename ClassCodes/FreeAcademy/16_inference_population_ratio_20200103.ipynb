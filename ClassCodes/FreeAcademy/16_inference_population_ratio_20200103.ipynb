{
 "cells": [
  {
   "cell_type": "markdown",
   "metadata": {},
   "source": [
    "# 파이썬 기반의 AI를 위한 기초수학, 확률및통계"
   ]
  },
  {
   "cell_type": "code",
   "execution_count": 1,
   "metadata": {},
   "outputs": [],
   "source": [
    "## 강봉주 \n",
    "## bonjour.kang@gmail.com\n",
    "##\n",
    "## 범주형 자료 분석\n",
    "##"
   ]
  },
  {
   "cell_type": "markdown",
   "metadata": {},
   "source": [
    "## 모비율의 추정 및 검정"
   ]
  },
  {
   "cell_type": "markdown",
   "metadata": {},
   "source": [
    "### 데이터 구성"
   ]
  },
  {
   "cell_type": "code",
   "execution_count": 2,
   "metadata": {},
   "outputs": [
    {
     "data": {
      "text/plain": [
       "'0.25.3'"
      ]
     },
     "execution_count": 2,
     "metadata": {},
     "output_type": "execute_result"
    }
   ],
   "source": [
    "# 필요한 패키지\n",
    "import numpy as np\n",
    "from scipy import linalg as la\n",
    "import matplotlib.pyplot as plt\n",
    "import pandas as pd\n",
    "\n",
    "import scipy.stats as ss\n",
    "import statsmodels.formula.api as smf\n",
    "\n",
    "pd.__version__"
   ]
  },
  {
   "cell_type": "code",
   "execution_count": 3,
   "metadata": {},
   "outputs": [
    {
     "data": {
      "text/html": [
       "<div>\n",
       "<style scoped>\n",
       "    .dataframe tbody tr th:only-of-type {\n",
       "        vertical-align: middle;\n",
       "    }\n",
       "\n",
       "    .dataframe tbody tr th {\n",
       "        vertical-align: top;\n",
       "    }\n",
       "\n",
       "    .dataframe thead th {\n",
       "        text-align: right;\n",
       "    }\n",
       "</style>\n",
       "<table border=\"1\" class=\"dataframe\">\n",
       "  <thead>\n",
       "    <tr style=\"text-align: right;\">\n",
       "      <th></th>\n",
       "      <th>0</th>\n",
       "      <th>1</th>\n",
       "      <th>2</th>\n",
       "      <th>3</th>\n",
       "      <th>4</th>\n",
       "      <th>5</th>\n",
       "      <th>6</th>\n",
       "      <th>7</th>\n",
       "      <th>8</th>\n",
       "      <th>9</th>\n",
       "      <th>...</th>\n",
       "      <th>151</th>\n",
       "      <th>152</th>\n",
       "      <th>153</th>\n",
       "      <th>154</th>\n",
       "      <th>155</th>\n",
       "      <th>156</th>\n",
       "      <th>157</th>\n",
       "      <th>158</th>\n",
       "      <th>159</th>\n",
       "      <th>160</th>\n",
       "    </tr>\n",
       "  </thead>\n",
       "  <tbody>\n",
       "    <tr>\n",
       "      <th>0</th>\n",
       "      <td>2018</td>\n",
       "      <td>10200261</td>\n",
       "      <td>P</td>\n",
       "      <td>1127.905175</td>\n",
       "      <td>NaN</td>\n",
       "      <td>2255.0</td>\n",
       "      <td>G2</td>\n",
       "      <td>1</td>\n",
       "      <td>2</td>\n",
       "      <td>G1</td>\n",
       "      <td>...</td>\n",
       "      <td>NaN</td>\n",
       "      <td>NaN</td>\n",
       "      <td>1.0</td>\n",
       "      <td>80.0</td>\n",
       "      <td>60</td>\n",
       "      <td>150</td>\n",
       "      <td>4.0</td>\n",
       "      <td>NaN</td>\n",
       "      <td>NaN</td>\n",
       "      <td>NaN</td>\n",
       "    </tr>\n",
       "    <tr>\n",
       "      <th>1</th>\n",
       "      <td>2018</td>\n",
       "      <td>10200371</td>\n",
       "      <td>P</td>\n",
       "      <td>2223.797699</td>\n",
       "      <td>NaN</td>\n",
       "      <td>4515.0</td>\n",
       "      <td>G1</td>\n",
       "      <td>1</td>\n",
       "      <td>4</td>\n",
       "      <td>G2</td>\n",
       "      <td>...</td>\n",
       "      <td>NaN</td>\n",
       "      <td>NaN</td>\n",
       "      <td>1.0</td>\n",
       "      <td>70.0</td>\n",
       "      <td>150</td>\n",
       "      <td>200</td>\n",
       "      <td>4.0</td>\n",
       "      <td>NaN</td>\n",
       "      <td>NaN</td>\n",
       "      <td>NaN</td>\n",
       "    </tr>\n",
       "  </tbody>\n",
       "</table>\n",
       "<p>2 rows × 161 columns</p>\n",
       "</div>"
      ],
      "text/plain": [
       "    0         1   2            3    4       5   6    7    8   9    ... 151  \\\n",
       "0  2018  10200261   P  1127.905175  NaN  2255.0  G2    1    2  G1  ... NaN   \n",
       "1  2018  10200371   P  2223.797699  NaN  4515.0  G1    1    4  G2  ... NaN   \n",
       "\n",
       "  152  153   154  155  156  157  158 159 160  \n",
       "0 NaN  1.0  80.0   60  150  4.0  NaN NaN NaN  \n",
       "1 NaN  1.0  70.0  150  200  4.0  NaN NaN NaN  \n",
       "\n",
       "[2 rows x 161 columns]"
      ]
     },
     "execution_count": 3,
     "metadata": {},
     "output_type": "execute_result"
    }
   ],
   "source": [
    "# [HFWS] 통계청 마이크로데이터  2018년 가계금융조사 데이터\n",
    "url = 'https://github.com/bong-ju-kang/kmu-mba-statistics-winter/raw/master/data/MDIS_2018_HFWS.txt'\n",
    "df = pd.read_csv(url, header=None)\n",
    "df.head(2)"
   ]
  },
  {
   "cell_type": "code",
   "execution_count": 4,
   "metadata": {},
   "outputs": [
    {
     "data": {
      "text/plain": [
       "(18640, 161)"
      ]
     },
     "execution_count": 4,
     "metadata": {},
     "output_type": "execute_result"
    }
   ],
   "source": [
    "df.shape"
   ]
  },
  {
   "cell_type": "code",
   "execution_count": 5,
   "metadata": {},
   "outputs": [
    {
     "data": {
      "text/plain": [
       "1    14061\n",
       "2     4579\n",
       "Name: 7, dtype: int64"
      ]
     },
     "execution_count": 5,
     "metadata": {},
     "output_type": "execute_result"
    }
   ],
   "source": [
    "# 가구주 성별\n",
    "gender = df.iloc[:, 7] \n",
    "gender.value_counts()"
   ]
  },
  {
   "cell_type": "code",
   "execution_count": 6,
   "metadata": {},
   "outputs": [
    {
     "data": {
      "text/plain": [
       "3.0"
      ]
     },
     "execution_count": 6,
     "metadata": {},
     "output_type": "execute_result"
    }
   ],
   "source": [
    "# 가구원수\n",
    "num_members = df.iloc[:, 8] \n",
    "np.round(num_members.mean())"
   ]
  },
  {
   "cell_type": "code",
   "execution_count": 7,
   "metadata": {},
   "outputs": [
    {
     "data": {
      "text/plain": [
       "4    5883\n",
       "6    4427\n",
       "2    2362\n",
       "3    2033\n",
       "5    1836\n",
       "7    1068\n",
       "1    1031\n",
       "Name: 14, dtype: int64"
      ]
     },
     "execution_count": 7,
     "metadata": {},
     "output_type": "execute_result"
    }
   ],
   "source": [
    "# 교육 수준\n",
    "edulevel = df.iloc[:, 14] \n",
    "edulevel.value_counts()\n",
    "# 1 안 받음(미취학 포함)\n",
    "# 2 초등학교\n",
    "# 3 중학교\n",
    "# 4 고등학교\n",
    "# 5 대학(3년제 이하)\n",
    "# 6 대학교(4년제 이상)\n",
    "# 7 대학원 이상"
   ]
  },
  {
   "cell_type": "code",
   "execution_count": 8,
   "metadata": {},
   "outputs": [
    {
     "data": {
      "text/plain": [
       "56.0"
      ]
     },
     "execution_count": 8,
     "metadata": {},
     "output_type": "execute_result"
    }
   ],
   "source": [
    "# 가구주 만나이\n",
    "hhage = df.iloc[:, 20] \n",
    "np.round(hhage.mean())"
   ]
  },
  {
   "cell_type": "code",
   "execution_count": 9,
   "metadata": {},
   "outputs": [
    {
     "data": {
      "text/plain": [
       "2    12429\n",
       "3     2682\n",
       "4     1913\n",
       "1     1616\n",
       "Name: 24, dtype: int64"
      ]
     },
     "execution_count": 9,
     "metadata": {},
     "output_type": "execute_result"
    }
   ],
   "source": [
    "# 가구주 혼인상태\n",
    "maritalstatus = df.iloc[:, 24] \n",
    "maritalstatus.value_counts()\n",
    "# 1 미혼\n",
    "# 2 배우자있음\n",
    "# 3 사별\n",
    "# 4 이혼"
   ]
  },
  {
   "cell_type": "code",
   "execution_count": 10,
   "metadata": {},
   "outputs": [
    {
     "data": {
      "text/plain": [
       "G1    11573\n",
       "G2     2963\n",
       "G3     2800\n",
       "G4     1304\n",
       "Name: 26, dtype: int64"
      ]
     },
     "execution_count": 10,
     "metadata": {},
     "output_type": "execute_result"
    }
   ],
   "source": [
    "# 입주형태\n",
    "housetype = df.iloc[:, 26] \n",
    "housetype.value_counts()\n",
    "# G1 자기집\n",
    "# G2 전세\n",
    "# G3 월세\n",
    "# G4 기타"
   ]
  },
  {
   "cell_type": "code",
   "execution_count": 11,
   "metadata": {},
   "outputs": [
    {
     "data": {
      "text/plain": [
       "G1    11185\n",
       "G2     7455\n",
       "Name: 29, dtype: int64"
      ]
     },
     "execution_count": 11,
     "metadata": {},
     "output_type": "execute_result"
    }
   ],
   "source": [
    "# 부채 보유 여부\n",
    "debtflag = df.iloc[:, 29] \n",
    "debtflag.value_counts()\n",
    "# G1 부채 보유\n",
    "# G2 부채 미보유"
   ]
  },
  {
   "cell_type": "code",
   "execution_count": 12,
   "metadata": {},
   "outputs": [
    {
     "data": {
      "text/plain": [
       "40053.221"
      ]
     },
     "execution_count": 12,
     "metadata": {},
     "output_type": "execute_result"
    }
   ],
   "source": [
    "# 자산\n",
    "asset = df.iloc[:, 40] \n",
    "np.round(asset.mean(), 3)"
   ]
  },
  {
   "cell_type": "code",
   "execution_count": 13,
   "metadata": {},
   "outputs": [
    {
     "data": {
      "text/plain": [
       "9805.399"
      ]
     },
     "execution_count": 13,
     "metadata": {},
     "output_type": "execute_result"
    }
   ],
   "source": [
    "# 금융 자산\n",
    "fasset = df.iloc[:, 41] \n",
    "np.round(fasset.mean(), 3)"
   ]
  },
  {
   "cell_type": "code",
   "execution_count": 14,
   "metadata": {},
   "outputs": [
    {
     "data": {
      "text/plain": [
       "30247.821"
      ]
     },
     "execution_count": 14,
     "metadata": {},
     "output_type": "execute_result"
    }
   ],
   "source": [
    "# 실물자산 \n",
    "tasset = df.iloc[:, 46] \n",
    "np.round(tasset.mean(), 3)"
   ]
  },
  {
   "cell_type": "code",
   "execution_count": 15,
   "metadata": {},
   "outputs": [
    {
     "data": {
      "text/plain": [
       "3964.482"
      ]
     },
     "execution_count": 15,
     "metadata": {},
     "output_type": "execute_result"
    }
   ],
   "source": [
    "# 담보대출\n",
    "mloan =  df.iloc[:, 56] \n",
    "np.round(mloan.mean(), 3)"
   ]
  },
  {
   "cell_type": "code",
   "execution_count": 16,
   "metadata": {},
   "outputs": [
    {
     "data": {
      "text/plain": [
       "688.78"
      ]
     },
     "execution_count": 16,
     "metadata": {},
     "output_type": "execute_result"
    }
   ],
   "source": [
    "# 신용 대출\n",
    "cloan = df.iloc[:, 80] \n",
    "np.round(cloan.mean(), 3)"
   ]
  },
  {
   "cell_type": "code",
   "execution_count": 17,
   "metadata": {},
   "outputs": [
    {
     "data": {
      "text/plain": [
       "33245.647"
      ]
     },
     "execution_count": 17,
     "metadata": {},
     "output_type": "execute_result"
    }
   ],
   "source": [
    "# 순자산액\n",
    "netasset = df.iloc[:, 108] \n",
    "np.round(netasset.mean(), 3)"
   ]
  },
  {
   "cell_type": "code",
   "execution_count": 18,
   "metadata": {},
   "outputs": [
    {
     "data": {
      "text/plain": [
       "5363.971"
      ]
     },
     "execution_count": 18,
     "metadata": {},
     "output_type": "execute_result"
    }
   ],
   "source": [
    "# 가구소득(경상소득)\n",
    "income = df.iloc[:, 109] \n",
    "np.round(income.mean(), 3)"
   ]
  },
  {
   "cell_type": "code",
   "execution_count": 19,
   "metadata": {},
   "outputs": [
    {
     "data": {
      "text/plain": [
       "2183.234"
      ]
     },
     "execution_count": 19,
     "metadata": {},
     "output_type": "execute_result"
    }
   ],
   "source": [
    "# 지출\n",
    "expense = df.iloc[:, 117] \n",
    "np.round(expense.mean(), 3)"
   ]
  },
  {
   "cell_type": "code",
   "execution_count": 20,
   "metadata": {},
   "outputs": [
    {
     "data": {
      "text/plain": [
       "1.0    7412\n",
       "2.0    1849\n",
       "Name: 153, dtype: int64"
      ]
     },
     "execution_count": 20,
     "metadata": {},
     "output_type": "execute_result"
    }
   ],
   "source": [
    "# 가구주 은퇴여부\n",
    "retireflag = df.iloc[:, 153] \n",
    "retireflag.value_counts()"
   ]
  },
  {
   "cell_type": "markdown",
   "metadata": {},
   "source": [
    "### 모비율의 추정"
   ]
  },
  {
   "cell_type": "code",
   "execution_count": 21,
   "metadata": {},
   "outputs": [
    {
     "data": {
      "text/plain": [
       "0.393"
      ]
     },
     "execution_count": 21,
     "metadata": {},
     "output_type": "execute_result"
    }
   ],
   "source": [
    "# 모비율 확인\n",
    "pratio = edulevel[edulevel > 4].shape[0] / len(edulevel)\n",
    "np.round(pratio, 3)"
   ]
  },
  {
   "cell_type": "code",
   "execution_count": 22,
   "metadata": {},
   "outputs": [
    {
     "data": {
      "text/plain": [
       "0.38"
      ]
     },
     "execution_count": 22,
     "metadata": {},
     "output_type": "execute_result"
    }
   ],
   "source": [
    "# 표본 추출\n",
    "np.random.seed(123)\n",
    "index = np.random.choice(len(df), 100, replace=False)\n",
    "sample = edulevel[index]\n",
    "\n",
    "# 표본 비율\n",
    "sratio = sample[sample > 4].shape[0] / len(sample)\n",
    "np.round(sratio, 3)"
   ]
  },
  {
   "cell_type": "code",
   "execution_count": 23,
   "metadata": {},
   "outputs": [
    {
     "data": {
      "text/plain": [
       "array([0.285, 0.475])"
      ]
     },
     "execution_count": 23,
     "metadata": {},
     "output_type": "execute_result"
    }
   ],
   "source": [
    "# 신뢰 구간\n",
    "# 유의 수준\n",
    "alpha = 0.05\n",
    "\n",
    "# 표본 크기\n",
    "n = len(sample)\n",
    "\n",
    "# 분위수\n",
    "z_alpha_2 = ss.norm.ppf(1-alpha/2)\n",
    "\n",
    "# 신뢰구간\n",
    "lower = sratio - z_alpha_2 * np.sqrt(sratio*(1-sratio)/n)\n",
    "upper = sratio + z_alpha_2 * np.sqrt(sratio*(1-sratio)/n)\n",
    "np.round([lower, upper], 3)"
   ]
  },
  {
   "cell_type": "code",
   "execution_count": 24,
   "metadata": {},
   "outputs": [
    {
     "data": {
      "text/plain": [
       "1.076"
      ]
     },
     "execution_count": 24,
     "metadata": {},
     "output_type": "execute_result"
    }
   ],
   "source": [
    "# 표본이 작은 경우: 모비율 검정\n",
    "# p-value 계산\n",
    "\n",
    "# 표본 크기\n",
    "n = len(sample)\n",
    "\n",
    "# 모 비율\n",
    "p = 0.39\n",
    "\n",
    "# 표본 이벤트 건수\n",
    "nphat = sample[sample > 4].shape[0]\n",
    "\n",
    "# p-value 계산\n",
    "pvalue = 2*(1 - ss.binom.cdf(nphat, n=n, p=p))\n",
    "np.round(pvalue, 3)"
   ]
  },
  {
   "cell_type": "code",
   "execution_count": 25,
   "metadata": {},
   "outputs": [
    {
     "data": {
      "text/plain": [
       "1.162"
      ]
     },
     "execution_count": 25,
     "metadata": {},
     "output_type": "execute_result"
    }
   ],
   "source": [
    "# 표본이 큰 경우\n",
    "# 검정 통계량\n",
    "z0 = (nphat - n*p)/np.sqrt(n*p*(1-p))\n",
    "\n",
    "# p-value 계산\n",
    "pvalue = (1 - ss.norm.cdf(z0))*2\n",
    "np.round(pvalue, 3)"
   ]
  },
  {
   "cell_type": "markdown",
   "metadata": {},
   "source": [
    "## 모 비율의 비교"
   ]
  },
  {
   "cell_type": "code",
   "execution_count": 26,
   "metadata": {},
   "outputs": [
    {
     "data": {
      "text/plain": [
       "debtflag      0\n",
       "retireflag    0\n",
       "dtype: int64"
      ]
     },
     "execution_count": 26,
     "metadata": {},
     "output_type": "execute_result"
    }
   ],
   "source": [
    "# 관심 대상 변수로 구성된 데이터 구성\n",
    "df1 = pd.DataFrame({'debtflag':debtflag, 'retireflag':retireflag})\n",
    "\n",
    "# 결측값 제거\n",
    "df1.dropna(inplace=True)\n",
    "\n",
    "# 결측값 제거 확인\n",
    "df1.isna().sum()"
   ]
  },
  {
   "cell_type": "code",
   "execution_count": 27,
   "metadata": {
    "scrolled": true
   },
   "outputs": [
    {
     "data": {
      "text/html": [
       "<div>\n",
       "<style scoped>\n",
       "    .dataframe tbody tr th:only-of-type {\n",
       "        vertical-align: middle;\n",
       "    }\n",
       "\n",
       "    .dataframe tbody tr th {\n",
       "        vertical-align: top;\n",
       "    }\n",
       "\n",
       "    .dataframe thead th {\n",
       "        text-align: right;\n",
       "    }\n",
       "</style>\n",
       "<table border=\"1\" class=\"dataframe\">\n",
       "  <thead>\n",
       "    <tr style=\"text-align: right;\">\n",
       "      <th></th>\n",
       "      <th>Y</th>\n",
       "      <th>N</th>\n",
       "      <th>RowTotal</th>\n",
       "    </tr>\n",
       "  </thead>\n",
       "  <tbody>\n",
       "    <tr>\n",
       "      <th>retire_Y</th>\n",
       "      <td>4869</td>\n",
       "      <td>2543</td>\n",
       "      <td>7412</td>\n",
       "    </tr>\n",
       "    <tr>\n",
       "      <th>retire_N</th>\n",
       "      <td>643</td>\n",
       "      <td>1206</td>\n",
       "      <td>1849</td>\n",
       "    </tr>\n",
       "    <tr>\n",
       "      <th>ColTotal</th>\n",
       "      <td>5512</td>\n",
       "      <td>3749</td>\n",
       "      <td>9261</td>\n",
       "    </tr>\n",
       "  </tbody>\n",
       "</table>\n",
       "</div>"
      ],
      "text/plain": [
       "             Y     N  RowTotal\n",
       "retire_Y  4869  2543      7412\n",
       "retire_N   643  1206      1849\n",
       "ColTotal  5512  3749      9261"
      ]
     },
     "execution_count": 27,
     "metadata": {},
     "output_type": "execute_result"
    }
   ],
   "source": [
    "# 교차표 생성\n",
    "freq = pd.crosstab(index=df1[\"retireflag\"], columns=df1[\"debtflag\"], margins=True)\n",
    "freq.columns = [\"Y\",\"N\", 'RowTotal']\n",
    "freq.index= [\"retire_Y\",\"retire_N\", \"ColTotal\"]\n",
    "freq"
   ]
  },
  {
   "cell_type": "code",
   "execution_count": 28,
   "metadata": {},
   "outputs": [
    {
     "data": {
      "text/plain": [
       "retire_Y    0.657\n",
       "retire_N    0.348\n",
       "ColTotal    0.595\n",
       "dtype: float64"
      ]
     },
     "execution_count": 28,
     "metadata": {},
     "output_type": "execute_result"
    }
   ],
   "source": [
    "# 행 합에 대한 비율: 은퇴 여부에 따른 부채 보유 비율\n",
    "sratio = np.round(freq['Y'] / freq['RowTotal'], 3)\n",
    "sratio"
   ]
  },
  {
   "cell_type": "code",
   "execution_count": 29,
   "metadata": {},
   "outputs": [
    {
     "data": {
      "text/plain": [
       "retire_Y    7412\n",
       "retire_N    1849\n",
       "ColTotal    9261\n",
       "Name: RowTotal, dtype: int64"
      ]
     },
     "execution_count": 29,
     "metadata": {},
     "output_type": "execute_result"
    }
   ],
   "source": [
    "# 은퇴 여부 그룹의 크기\n",
    "n = freq['RowTotal']\n",
    "n"
   ]
  },
  {
   "cell_type": "code",
   "execution_count": 30,
   "metadata": {},
   "outputs": [
    {
     "data": {
      "text/plain": [
       "0.309"
      ]
     },
     "execution_count": 30,
     "metadata": {},
     "output_type": "execute_result"
    }
   ],
   "source": [
    "# 표본비율 차\n",
    "dratio = sratio[0] - sratio[1]\n",
    "dratio.round(3)"
   ]
  },
  {
   "cell_type": "code",
   "execution_count": 31,
   "metadata": {},
   "outputs": [
    {
     "data": {
      "text/plain": [
       "0.01237"
      ]
     },
     "execution_count": 31,
     "metadata": {},
     "output_type": "execute_result"
    }
   ],
   "source": [
    "# 표준오차 계산\n",
    "se = np.sqrt(sratio[0]*(1-sratio[0])/n[0] + sratio[1]*(1-sratio[1])/n[1] )\n",
    "se.round(5)"
   ]
  },
  {
   "cell_type": "code",
   "execution_count": 32,
   "metadata": {},
   "outputs": [
    {
     "data": {
      "text/plain": [
       "1.96"
      ]
     },
     "execution_count": 32,
     "metadata": {},
     "output_type": "execute_result"
    }
   ],
   "source": [
    "# 정규 분위수 계산\n",
    "alpha = 0.05\n",
    "z_alpha_2 = ss.norm.ppf(1-alpha/2)\n",
    "z_alpha_2.round(3)"
   ]
  },
  {
   "cell_type": "code",
   "execution_count": 33,
   "metadata": {},
   "outputs": [
    {
     "data": {
      "text/plain": [
       "array([0.2847, 0.3333])"
      ]
     },
     "execution_count": 33,
     "metadata": {},
     "output_type": "execute_result"
    }
   ],
   "source": [
    "# 신뢰 구간 계산\n",
    "lower = dratio - z_alpha_2 * se\n",
    "upper =  dratio + z_alpha_2 * se\n",
    "np.round([lower, upper], 4)"
   ]
  },
  {
   "cell_type": "code",
   "execution_count": 34,
   "metadata": {},
   "outputs": [
    {
     "data": {
      "text/plain": [
       "24.972"
      ]
     },
     "execution_count": 34,
     "metadata": {},
     "output_type": "execute_result"
    }
   ],
   "source": [
    "# 모비율 차의 유의성 검정\n",
    "# 검정 통계량\n",
    "z0 = dratio / se\n",
    "z0.round(3)"
   ]
  },
  {
   "cell_type": "code",
   "execution_count": 35,
   "metadata": {},
   "outputs": [
    {
     "data": {
      "text/plain": [
       "0.0"
      ]
     },
     "execution_count": 35,
     "metadata": {},
     "output_type": "execute_result"
    }
   ],
   "source": [
    "# p-value 계산\n",
    "pvalue = (1 - ss.norm.cdf(z0))*2\n",
    "pvalue"
   ]
  },
  {
   "cell_type": "markdown",
   "metadata": {},
   "source": [
    "## 동질성 검증"
   ]
  },
  {
   "cell_type": "code",
   "execution_count": 36,
   "metadata": {},
   "outputs": [
    {
     "data": {
      "text/plain": [
       "array([[ 100,  900],\n",
       "       [ 200, 4500]])"
      ]
     },
     "execution_count": 36,
     "metadata": {},
     "output_type": "execute_result"
    }
   ],
   "source": [
    "# 데이터 구성\n",
    "ins = np.array([[100, 900],\n",
    "               [200, 4500]])\n",
    "ins"
   ]
  },
  {
   "cell_type": "code",
   "execution_count": 37,
   "metadata": {},
   "outputs": [
    {
     "data": {
      "text/plain": [
       "array([ 300, 5400])"
      ]
     },
     "execution_count": 37,
     "metadata": {},
     "output_type": "execute_result"
    }
   ],
   "source": [
    "# 열별 합\n",
    "colSum = ins.sum(axis=0)\n",
    "colSum"
   ]
  },
  {
   "cell_type": "code",
   "execution_count": 38,
   "metadata": {},
   "outputs": [
    {
     "data": {
      "text/plain": [
       "array([0.053, 0.947])"
      ]
     },
     "execution_count": 38,
     "metadata": {},
     "output_type": "execute_result"
    }
   ],
   "source": [
    "# 전체 건수에 대한 이탈과 비이탈 비율\n",
    "attratio = colSum / ins.sum()\n",
    "attratio.round(3)"
   ]
  },
  {
   "cell_type": "code",
   "execution_count": 39,
   "metadata": {},
   "outputs": [
    {
     "data": {
      "text/plain": [
       "array([1000, 4700])"
      ]
     },
     "execution_count": 39,
     "metadata": {},
     "output_type": "execute_result"
    }
   ],
   "source": [
    "# 행별 합\n",
    "rowSum = ins.sum(axis=1)\n",
    "rowSum"
   ]
  },
  {
   "cell_type": "code",
   "execution_count": 40,
   "metadata": {},
   "outputs": [
    {
     "data": {
      "text/plain": [
       "array([[  52.632,  947.368],\n",
       "       [ 247.368, 4452.632]])"
      ]
     },
     "execution_count": 40,
     "metadata": {},
     "output_type": "execute_result"
    }
   ],
   "source": [
    "# 기대 빈도 계산\n",
    "expected = rowSum.reshape(-1, 1) @ colSum.reshape(1, -1) / ins.sum()\n",
    "expected.round(3)"
   ]
  },
  {
   "cell_type": "code",
   "execution_count": 41,
   "metadata": {},
   "outputs": [
    {
     "data": {
      "text/plain": [
       "54.574"
      ]
     },
     "execution_count": 41,
     "metadata": {},
     "output_type": "execute_result"
    }
   ],
   "source": [
    "# 검증 통계량 계산\n",
    "ts = np.sum((ins-expected)**2 / expected)\n",
    "ts.round(3)"
   ]
  },
  {
   "cell_type": "code",
   "execution_count": 42,
   "metadata": {},
   "outputs": [
    {
     "data": {
      "text/plain": [
       "0.0"
      ]
     },
     "execution_count": 42,
     "metadata": {},
     "output_type": "execute_result"
    }
   ],
   "source": [
    "# 동질성 검증\n",
    "# 유의 수준 정의\n",
    "alpha = 0.05\n",
    "\n",
    "# 자유도 정의\n",
    "df = (ins.shape[0]-1) * 1\n",
    "\n",
    "# 카이제곱 분위수 계산\n",
    "ss.chi2.ppf(1-alpha, df=df)\n",
    "\n",
    "# p-value 계산\n",
    "pvalue = 1 - ss.chi2.cdf(ts, df=df)\n",
    "pvalue.round(3)"
   ]
  },
  {
   "cell_type": "markdown",
   "metadata": {},
   "source": [
    "## 독립성 검증"
   ]
  },
  {
   "cell_type": "code",
   "execution_count": 43,
   "metadata": {},
   "outputs": [
    {
     "data": {
      "text/plain": [
       "maritalstatus    0\n",
       "housetype        0\n",
       "dtype: int64"
      ]
     },
     "execution_count": 43,
     "metadata": {},
     "output_type": "execute_result"
    }
   ],
   "source": [
    "# 데이터 구성\n",
    "# 관심 대상 변수로 구성된 데이터 구성\n",
    "df2 = pd.DataFrame({'maritalstatus':maritalstatus, 'housetype':housetype})\n",
    "\n",
    "# 결측값 여부 확인\n",
    "df2.isna().sum()"
   ]
  },
  {
   "cell_type": "code",
   "execution_count": 44,
   "metadata": {},
   "outputs": [
    {
     "data": {
      "text/html": [
       "<div>\n",
       "<style scoped>\n",
       "    .dataframe tbody tr th:only-of-type {\n",
       "        vertical-align: middle;\n",
       "    }\n",
       "\n",
       "    .dataframe tbody tr th {\n",
       "        vertical-align: top;\n",
       "    }\n",
       "\n",
       "    .dataframe thead th {\n",
       "        text-align: right;\n",
       "    }\n",
       "</style>\n",
       "<table border=\"1\" class=\"dataframe\">\n",
       "  <thead>\n",
       "    <tr style=\"text-align: right;\">\n",
       "      <th></th>\n",
       "      <th>자기집</th>\n",
       "      <th>전세</th>\n",
       "      <th>월세</th>\n",
       "      <th>기타</th>\n",
       "    </tr>\n",
       "  </thead>\n",
       "  <tbody>\n",
       "    <tr>\n",
       "      <th>미혼</th>\n",
       "      <td>479</td>\n",
       "      <td>385</td>\n",
       "      <td>599</td>\n",
       "      <td>153</td>\n",
       "    </tr>\n",
       "    <tr>\n",
       "      <th>배우자있음</th>\n",
       "      <td>8930</td>\n",
       "      <td>1864</td>\n",
       "      <td>1066</td>\n",
       "      <td>569</td>\n",
       "    </tr>\n",
       "    <tr>\n",
       "      <th>사별</th>\n",
       "      <td>1529</td>\n",
       "      <td>317</td>\n",
       "      <td>393</td>\n",
       "      <td>443</td>\n",
       "    </tr>\n",
       "    <tr>\n",
       "      <th>이혼</th>\n",
       "      <td>635</td>\n",
       "      <td>397</td>\n",
       "      <td>742</td>\n",
       "      <td>139</td>\n",
       "    </tr>\n",
       "  </tbody>\n",
       "</table>\n",
       "</div>"
      ],
      "text/plain": [
       "        자기집    전세    월세   기타\n",
       "미혼      479   385   599  153\n",
       "배우자있음  8930  1864  1066  569\n",
       "사별     1529   317   393  443\n",
       "이혼      635   397   742  139"
      ]
     },
     "execution_count": 44,
     "metadata": {},
     "output_type": "execute_result"
    }
   ],
   "source": [
    "# 교차표 구성\n",
    "freq = pd.crosstab(index=df2[\"maritalstatus\"], columns=df2[\"housetype\"], margins=False)\n",
    "freq.columns = [\"자기집\",\"전세\", '월세', '기타']\n",
    "# G1 자기집\n",
    "# G2 전세\n",
    "# G3 월세\n",
    "# G4 기타\n",
    "freq.index= [\"미혼\",\"배우자있음\", \"사별\", '이혼']\n",
    "# 1 미혼\n",
    "# 2 배우자있음\n",
    "# 3 사별\n",
    "# 4 이혼\n",
    "freq"
   ]
  },
  {
   "cell_type": "code",
   "execution_count": 45,
   "metadata": {},
   "outputs": [
    {
     "data": {
      "text/plain": [
       "2911.535"
      ]
     },
     "execution_count": 45,
     "metadata": {},
     "output_type": "execute_result"
    }
   ],
   "source": [
    "#  카이제곱 검증\n",
    "chi2, p, dof, expected = ss.chi2_contingency(freq.values, correction=False)\n",
    "\n",
    "# 검증 통계량\n",
    "chi2.round(3)"
   ]
  },
  {
   "cell_type": "code",
   "execution_count": 46,
   "metadata": {},
   "outputs": [
    {
     "data": {
      "text/plain": [
       "0.0"
      ]
     },
     "execution_count": 46,
     "metadata": {},
     "output_type": "execute_result"
    }
   ],
   "source": [
    "# p-value\n",
    "p"
   ]
  },
  {
   "cell_type": "code",
   "execution_count": 47,
   "metadata": {},
   "outputs": [
    {
     "data": {
      "text/plain": [
       "9"
      ]
     },
     "execution_count": 47,
     "metadata": {},
     "output_type": "execute_result"
    }
   ],
   "source": [
    "# 자유도\n",
    "dof"
   ]
  },
  {
   "cell_type": "code",
   "execution_count": 48,
   "metadata": {},
   "outputs": [
    {
     "data": {
      "text/plain": [
       "array([[1003.,  257.,  243.,  113.],\n",
       "       [7717., 1976., 1867.,  869.],\n",
       "       [1665.,  426.,  403.,  188.],\n",
       "       [1188.,  304.,  287.,  134.]])"
      ]
     },
     "execution_count": 48,
     "metadata": {},
     "output_type": "execute_result"
    }
   ],
   "source": [
    "# 기대 빈도\n",
    "expected.round(0)"
   ]
  },
  {
   "cell_type": "code",
   "execution_count": 49,
   "metadata": {},
   "outputs": [
    {
     "data": {
      "text/html": [
       "<div>\n",
       "<style scoped>\n",
       "    .dataframe tbody tr th:only-of-type {\n",
       "        vertical-align: middle;\n",
       "    }\n",
       "\n",
       "    .dataframe tbody tr th {\n",
       "        vertical-align: top;\n",
       "    }\n",
       "\n",
       "    .dataframe thead th {\n",
       "        text-align: right;\n",
       "    }\n",
       "</style>\n",
       "<table border=\"1\" class=\"dataframe\">\n",
       "  <thead>\n",
       "    <tr style=\"text-align: right;\">\n",
       "      <th></th>\n",
       "      <th>자기집</th>\n",
       "      <th>전세</th>\n",
       "      <th>월세</th>\n",
       "      <th>기타</th>\n",
       "    </tr>\n",
       "  </thead>\n",
       "  <tbody>\n",
       "    <tr>\n",
       "      <th>미혼</th>\n",
       "      <td>-524.0</td>\n",
       "      <td>128.0</td>\n",
       "      <td>356.0</td>\n",
       "      <td>40.0</td>\n",
       "    </tr>\n",
       "    <tr>\n",
       "      <th>배우자있음</th>\n",
       "      <td>1213.0</td>\n",
       "      <td>-112.0</td>\n",
       "      <td>-801.0</td>\n",
       "      <td>-300.0</td>\n",
       "    </tr>\n",
       "    <tr>\n",
       "      <th>사별</th>\n",
       "      <td>-136.0</td>\n",
       "      <td>-109.0</td>\n",
       "      <td>-10.0</td>\n",
       "      <td>255.0</td>\n",
       "    </tr>\n",
       "    <tr>\n",
       "      <th>이혼</th>\n",
       "      <td>-553.0</td>\n",
       "      <td>93.0</td>\n",
       "      <td>455.0</td>\n",
       "      <td>5.0</td>\n",
       "    </tr>\n",
       "  </tbody>\n",
       "</table>\n",
       "</div>"
      ],
      "text/plain": [
       "          자기집     전세     월세     기타\n",
       "미혼     -524.0  128.0  356.0   40.0\n",
       "배우자있음  1213.0 -112.0 -801.0 -300.0\n",
       "사별     -136.0 -109.0  -10.0  255.0\n",
       "이혼     -553.0   93.0  455.0    5.0"
      ]
     },
     "execution_count": 49,
     "metadata": {},
     "output_type": "execute_result"
    }
   ],
   "source": [
    "# 실제 빈도와의 차이\n",
    "np.round(freq - expected, 0)"
   ]
  },
  {
   "cell_type": "markdown",
   "metadata": {},
   "source": [
    "## 가변수 변환 또는 원 핫 인코딩(one hot encoding)"
   ]
  },
  {
   "cell_type": "code",
   "execution_count": 50,
   "metadata": {},
   "outputs": [],
   "source": [
    "# 변수 정의\n",
    "allvars = ['netasset', 'gender', 'num_members', \n",
    "           'edulevel', 'hhage', 'maritalstatus', 'housetype']\n",
    "\n",
    "# 문자열에 해당하는 객체 가져오기\n",
    "allseries = [eval(var) for var in allvars]"
   ]
  },
  {
   "cell_type": "code",
   "execution_count": 51,
   "metadata": {},
   "outputs": [
    {
     "data": {
      "text/plain": [
       "Index(['netasset', 'gender', 'num_members', 'edulevel', 'hhage',\n",
       "       'maritalstatus', 'housetype'],\n",
       "      dtype='object')"
      ]
     },
     "execution_count": 51,
     "metadata": {},
     "output_type": "execute_result"
    }
   ],
   "source": [
    "# 데이터 구성\n",
    "sdf = pd.concat(allseries, axis=1)\n",
    "sdf.columns = allvars\n",
    "sdf.columns"
   ]
  },
  {
   "cell_type": "code",
   "execution_count": 52,
   "metadata": {},
   "outputs": [
    {
     "name": "stdout",
     "output_type": "stream",
     "text": [
      "   netasset  maritalstatus_1  maritalstatus_2  maritalstatus_3  \\\n",
      "0         2                0                1                0   \n",
      "1     58522                0                1                0   \n",
      "2    101350                0                1                0   \n",
      "\n",
      "   maritalstatus_4  \n",
      "0                0  \n",
      "1                0  \n",
      "2                0  \n"
     ]
    }
   ],
   "source": [
    "# 기본적인 형태\n",
    "print(pd.get_dummies(sdf[['netasset', 'maritalstatus']], columns=['maritalstatus']).head(3))"
   ]
  },
  {
   "cell_type": "code",
   "execution_count": 53,
   "metadata": {},
   "outputs": [
    {
     "name": "stdout",
     "output_type": "stream",
     "text": [
      "   netasset  maritalstatus_2  maritalstatus_3  maritalstatus_4\n",
      "0         2                1                0                0\n",
      "1     58522                1                0                0\n",
      "2    101350                1                0                0\n"
     ]
    }
   ],
   "source": [
    "# 범주값 1개 제거\n",
    "print(pd.get_dummies(sdf[['netasset', 'maritalstatus']], columns=['maritalstatus'], \n",
    "                    drop_first=True).head(3))"
   ]
  },
  {
   "cell_type": "code",
   "execution_count": 54,
   "metadata": {},
   "outputs": [
    {
     "data": {
      "text/plain": [
       "Index(['netasset', 'num_members', 'hhage', 'gender_2', 'edulevel_2',\n",
       "       'edulevel_3', 'edulevel_4', 'edulevel_5', 'edulevel_6', 'edulevel_7',\n",
       "       'maritalstatus_2', 'maritalstatus_3', 'maritalstatus_4', 'housetype_G2',\n",
       "       'housetype_G3', 'housetype_G4'],\n",
       "      dtype='object')"
      ]
     },
     "execution_count": 54,
     "metadata": {},
     "output_type": "execute_result"
    }
   ],
   "source": [
    "# 모든 범주 변수의 가변수 변환\n",
    "# 범주 변수 정의\n",
    "cat_vars = ['gender', 'edulevel', 'maritalstatus', 'housetype']\n",
    "\n",
    "# 가변수 변환\n",
    "new_sdf = pd.get_dummies(sdf, columns=cat_vars, drop_first=True)\n",
    "new_sdf.columns"
   ]
  },
  {
   "cell_type": "code",
   "execution_count": 55,
   "metadata": {},
   "outputs": [
    {
     "data": {
      "text/plain": [
       "'netasset~maritalstatus_3+gender_2+housetype_G3+maritalstatus_2+housetype_G4+housetype_G2+edulevel_5+edulevel_3+edulevel_6+num_members+hhage+edulevel_7+edulevel_2+edulevel_4+maritalstatus_4'"
      ]
     },
     "execution_count": 55,
     "metadata": {},
     "output_type": "execute_result"
    }
   ],
   "source": [
    "# 선형회귀 적합\n",
    "# 기호식 정의\n",
    "fmla = 'netasset~' + '+'.join(list(set(new_sdf.columns) - {'netasset'}))\n",
    "fmla"
   ]
  },
  {
   "cell_type": "code",
   "execution_count": 56,
   "metadata": {
    "scrolled": false
   },
   "outputs": [
    {
     "name": "stdout",
     "output_type": "stream",
     "text": [
      "                            OLS Regression Results                            \n",
      "==============================================================================\n",
      "Dep. Variable:               netasset   R-squared:                       0.177\n",
      "Model:                            OLS   Adj. R-squared:                  0.177\n",
      "Method:                 Least Squares   F-statistic:                     267.9\n",
      "Date:                Wed, 11 Mar 2020   Prob (F-statistic):               0.00\n",
      "Time:                        10:22:38   Log-Likelihood:            -2.2862e+05\n",
      "No. Observations:               18640   AIC:                         4.573e+05\n",
      "Df Residuals:                   18624   BIC:                         4.574e+05\n",
      "Df Model:                          15                                         \n",
      "Covariance Type:            nonrobust                                         \n",
      "===================================================================================\n",
      "                      coef    std err          t      P>|t|      [0.025      0.975]\n",
      "-----------------------------------------------------------------------------------\n",
      "Intercept        -4.18e+04   3426.440    -12.199      0.000   -4.85e+04   -3.51e+04\n",
      "maritalstatus_3 -4884.5964   2044.473     -2.389      0.017   -8891.950    -877.242\n",
      "gender_2         -661.1984   1210.291     -0.546      0.585   -3033.479    1711.082\n",
      "housetype_G3    -2.672e+04   1171.423    -22.808      0.000    -2.9e+04   -2.44e+04\n",
      "maritalstatus_2  3513.8776   1765.945      1.990      0.047      52.465    6975.291\n",
      "housetype_G4     -2.74e+04   1534.858    -17.854      0.000   -3.04e+04   -2.44e+04\n",
      "housetype_G2    -1.474e+04   1098.290    -13.420      0.000   -1.69e+04   -1.26e+04\n",
      "edulevel_5       3.304e+04   2331.003     14.175      0.000    2.85e+04    3.76e+04\n",
      "edulevel_3       1.313e+04   2083.620      6.303      0.000    9049.393    1.72e+04\n",
      "edulevel_6       4.771e+04   2122.126     22.484      0.000    4.36e+04    5.19e+04\n",
      "num_members      2423.1006    430.855      5.624      0.000    1578.585    3267.616\n",
      "hhage             846.5788     38.143     22.195      0.000     771.815     921.343\n",
      "edulevel_7       7.424e+04   2513.512     29.537      0.000    6.93e+04    7.92e+04\n",
      "edulevel_2       3885.1900   1955.738      1.987      0.047      51.765    7718.615\n",
      "edulevel_4       2.477e+04   1984.118     12.485      0.000    2.09e+04    2.87e+04\n",
      "maritalstatus_4 -4948.7833   1865.480     -2.653      0.008   -8605.295   -1292.272\n",
      "==============================================================================\n",
      "Omnibus:                    28439.161   Durbin-Watson:                   1.863\n",
      "Prob(Omnibus):                  0.000   Jarque-Bera (JB):         25373316.445\n",
      "Skew:                           9.335   Prob(JB):                         0.00\n",
      "Kurtosis:                     182.780   Cond. No.                         829.\n",
      "==============================================================================\n",
      "\n",
      "Warnings:\n",
      "[1] Standard Errors assume that the covariance matrix of the errors is correctly specified.\n"
     ]
    }
   ],
   "source": [
    "# 선형회귀 적합\n",
    "fit = smf.ols(fmla, data=new_sdf).fit()\n",
    "print(fit.summary())"
   ]
  }
 ],
 "metadata": {
  "kernelspec": {
   "display_name": "Python 3",
   "language": "python",
   "name": "python3"
  },
  "language_info": {
   "codemirror_mode": {
    "name": "ipython",
    "version": 3
   },
   "file_extension": ".py",
   "mimetype": "text/x-python",
   "name": "python",
   "nbconvert_exporter": "python",
   "pygments_lexer": "ipython3",
   "version": "3.7.6"
  }
 },
 "nbformat": 4,
 "nbformat_minor": 2
}
