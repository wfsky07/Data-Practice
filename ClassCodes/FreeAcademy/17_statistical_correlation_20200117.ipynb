{
 "cells": [
  {
   "cell_type": "markdown",
   "metadata": {},
   "source": [
    "# 파이썬 기반의 AI를 위한 기초수학, 확률및통계"
   ]
  },
  {
   "cell_type": "code",
   "execution_count": 1,
   "metadata": {},
   "outputs": [],
   "source": [
    "## 강봉주 \n",
    "## bonjour.kang@gmail.com\n",
    "##\n",
    "## 상관분석\n",
    "##"
   ]
  },
  {
   "cell_type": "code",
   "execution_count": 2,
   "metadata": {},
   "outputs": [
    {
     "data": {
      "text/plain": [
       "'0.9.0'"
      ]
     },
     "execution_count": 2,
     "metadata": {},
     "output_type": "execute_result"
    }
   ],
   "source": [
    "# 필요한 패키지\n",
    "import numpy as np\n",
    "import matplotlib.pyplot as plt\n",
    "import pandas as pd\n",
    "\n",
    "import scipy.stats as ss\n",
    "\n",
    "import seaborn as sns\n",
    "\n",
    "# 한글출력\n",
    "plt.rcParams['font.family'] = 'Malgun Gothic'\n",
    "plt.rcParams['axes.unicode_minus'] = False\n",
    "\n",
    "sns.__version__"
   ]
  },
  {
   "cell_type": "code",
   "execution_count": 3,
   "metadata": {},
   "outputs": [
    {
     "data": {
      "text/plain": [
       "(506, 14)"
      ]
     },
     "execution_count": 3,
     "metadata": {},
     "output_type": "execute_result"
    }
   ],
   "source": [
    "# 데이터 구성: [HOUSING]\n",
    "\n",
    "# 경로 정의\n",
    "url = \"https://archive.ics.uci.edu/ml/machine-learning-databases/housing/housing.data\"\n",
    "df = pd.read_csv(url, sep=r'\\s+', header=None)\n",
    "\n",
    "# 컬럼 정보 주기\n",
    "df.columns = ['CRIM', 'ZN', 'INDUS', 'CHAS', 'NOX',\n",
    "              'RM', 'AGE', 'DIS', 'RAD', 'TAX', 'PTRATIO', 'B', 'LSTAT', 'MEDV']\n",
    "df.columns = df.columns.str.lower()\n",
    "\n",
    "# 데이터 확인\n",
    "df.shape"
   ]
  },
  {
   "cell_type": "code",
   "execution_count": 4,
   "metadata": {},
   "outputs": [
    {
     "name": "stdout",
     "output_type": "stream",
     "text": [
      "         rm   medv\n",
      "rm    1.000  0.695\n",
      "medv  0.695  1.000\n"
     ]
    }
   ],
   "source": [
    "# 표본 상관계수의 계산\n",
    "xvars = ['rm', 'medv']\n",
    "print(df[xvars].corr().round(3))"
   ]
  },
  {
   "cell_type": "code",
   "execution_count": 5,
   "metadata": {},
   "outputs": [
    {
     "name": "stdout",
     "output_type": "stream",
     "text": [
      "         rm    age    dis   medv\n",
      "rm    1.000 -0.240  0.205  0.695\n",
      "age  -0.240  1.000 -0.748 -0.377\n",
      "dis   0.205 -0.748  1.000  0.250\n",
      "medv  0.695 -0.377  0.250  1.000\n"
     ]
    }
   ],
   "source": [
    "# 표본 상관계수의 계산\n",
    "vars = ['rm', 'age', 'dis', 'medv']\n",
    "print(df[vars].corr().round(3))"
   ]
  },
  {
   "cell_type": "code",
   "execution_count": 6,
   "metadata": {},
   "outputs": [
    {
     "data": {
      "text/plain": [
       "0.695"
      ]
     },
     "execution_count": 6,
     "metadata": {},
     "output_type": "execute_result"
    }
   ],
   "source": [
    "# 표본 상관계수의 추론\n",
    "# 대상 변수 정의\n",
    "vars = ['rm', 'medv']\n",
    "\n",
    "# 표본 상관계수 계산\n",
    "r = df[vars].corr().iloc[0, 1]\n",
    "r.round(3)"
   ]
  },
  {
   "cell_type": "code",
   "execution_count": 7,
   "metadata": {},
   "outputs": [
    {
     "data": {
      "text/plain": [
       "21.722"
      ]
     },
     "execution_count": 7,
     "metadata": {},
     "output_type": "execute_result"
    }
   ],
   "source": [
    "# t 변환\n",
    "n = len(df)\n",
    "t = np.sqrt(n-2) * r / np.sqrt(1 - r**2)\n",
    "t.round(3)"
   ]
  },
  {
   "cell_type": "code",
   "execution_count": 8,
   "metadata": {},
   "outputs": [
    {
     "data": {
      "text/plain": [
       "0.0"
      ]
     },
     "execution_count": 8,
     "metadata": {},
     "output_type": "execute_result"
    }
   ],
   "source": [
    "# p-value 계산\n",
    "pvalue = 2 * (1-ss.t.cdf(t, df= n-2))\n",
    "pvalue.round(5)"
   ]
  },
  {
   "cell_type": "code",
   "execution_count": 9,
   "metadata": {},
   "outputs": [
    {
     "data": {
      "text/plain": [
       "array([0.695, 0.   ])"
      ]
     },
     "execution_count": 9,
     "metadata": {},
     "output_type": "execute_result"
    }
   ],
   "source": [
    "# 결과 확인\n",
    "np.round(ss.pearsonr(df['rm'], df['medv']), 3)"
   ]
  },
  {
   "cell_type": "code",
   "execution_count": 10,
   "metadata": {},
   "outputs": [
    {
     "data": {
      "text/plain": [
       "array([0.647, 0.738])"
      ]
     },
     "execution_count": 10,
     "metadata": {},
     "output_type": "execute_result"
    }
   ],
   "source": [
    "# 상관계수의 신뢰 구간 계산\n",
    "alpha = 0.05\n",
    "n = len(df)\n",
    "\n",
    "# z 변환\n",
    "z = 1/2*np.log((1+r)/(1-r))\n",
    "z_lower = z - ss.norm.ppf(1-alpha/2)*np.sqrt(1/(n-3))\n",
    "z_upper = z + ss.norm.ppf(1-alpha/2)*np.sqrt(1/(n-3))\n",
    "\n",
    "# z의 역변환\n",
    "np.round([np.tanh(z_lower), np.tanh(z_upper)], 3)"
   ]
  }
 ],
 "metadata": {
  "kernelspec": {
   "display_name": "Python 3",
   "language": "python",
   "name": "python3"
  },
  "language_info": {
   "codemirror_mode": {
    "name": "ipython",
    "version": 3
   },
   "file_extension": ".py",
   "mimetype": "text/x-python",
   "name": "python",
   "nbconvert_exporter": "python",
   "pygments_lexer": "ipython3",
   "version": "3.7.6"
  }
 },
 "nbformat": 4,
 "nbformat_minor": 2
}
