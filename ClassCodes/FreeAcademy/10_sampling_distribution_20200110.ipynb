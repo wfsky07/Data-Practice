{
 "cells": [
  {
   "cell_type": "markdown",
   "metadata": {},
   "source": [
    "# 파이썬 기반의 AI를 위한 기초수학, 확률및통계"
   ]
  },
  {
   "cell_type": "code",
   "execution_count": 1,
   "metadata": {},
   "outputs": [],
   "source": [
    "## 강봉주 \n",
    "## bonjour.kang@gmail.com\n",
    "##\n",
    "## 표본 분포\n",
    "##"
   ]
  },
  {
   "cell_type": "code",
   "execution_count": 2,
   "metadata": {},
   "outputs": [
    {
     "data": {
      "text/plain": [
       "'1.3.2'"
      ]
     },
     "execution_count": 2,
     "metadata": {},
     "output_type": "execute_result"
    }
   ],
   "source": [
    "# 필요한 패키지\n",
    "import numpy as np\n",
    "import matplotlib.pyplot as plt\n",
    "import pandas as pd\n",
    "\n",
    "import scipy\n",
    "from scipy import linalg as la\n",
    "import scipy.stats as ss\n",
    "import scipy.special\n",
    "\n",
    "# 한글출력\n",
    "plt.rcParams['font.family'] = 'Malgun Gothic'\n",
    "plt.rcParams['axes.unicode_minus'] = False\n",
    "\n",
    "# 필요한 패키지 2\n",
    "from pgmpy.factors.discrete import JointProbabilityDistribution as JPD\n",
    "import sympy\n",
    "\n",
    "scipy.__version__"
   ]
  },
  {
   "cell_type": "code",
   "execution_count": 3,
   "metadata": {},
   "outputs": [
    {
     "data": {
      "text/html": [
       "<div>\n",
       "<style scoped>\n",
       "    .dataframe tbody tr th:only-of-type {\n",
       "        vertical-align: middle;\n",
       "    }\n",
       "\n",
       "    .dataframe tbody tr th {\n",
       "        vertical-align: top;\n",
       "    }\n",
       "\n",
       "    .dataframe thead th {\n",
       "        text-align: right;\n",
       "    }\n",
       "</style>\n",
       "<table border=\"1\" class=\"dataframe\">\n",
       "  <thead>\n",
       "    <tr style=\"text-align: right;\">\n",
       "      <th></th>\n",
       "      <th>0</th>\n",
       "      <th>1</th>\n",
       "      <th>2</th>\n",
       "      <th>3</th>\n",
       "      <th>4</th>\n",
       "      <th>5</th>\n",
       "      <th>6</th>\n",
       "      <th>7</th>\n",
       "      <th>8</th>\n",
       "      <th>9</th>\n",
       "      <th>...</th>\n",
       "      <th>151</th>\n",
       "      <th>152</th>\n",
       "      <th>153</th>\n",
       "      <th>154</th>\n",
       "      <th>155</th>\n",
       "      <th>156</th>\n",
       "      <th>157</th>\n",
       "      <th>158</th>\n",
       "      <th>159</th>\n",
       "      <th>160</th>\n",
       "    </tr>\n",
       "  </thead>\n",
       "  <tbody>\n",
       "    <tr>\n",
       "      <th>0</th>\n",
       "      <td>2018</td>\n",
       "      <td>10200261</td>\n",
       "      <td>P</td>\n",
       "      <td>1127.905175</td>\n",
       "      <td>NaN</td>\n",
       "      <td>2255.0</td>\n",
       "      <td>G2</td>\n",
       "      <td>1</td>\n",
       "      <td>2</td>\n",
       "      <td>G1</td>\n",
       "      <td>...</td>\n",
       "      <td>NaN</td>\n",
       "      <td>NaN</td>\n",
       "      <td>1.0</td>\n",
       "      <td>80.0</td>\n",
       "      <td>60</td>\n",
       "      <td>150</td>\n",
       "      <td>4.0</td>\n",
       "      <td>NaN</td>\n",
       "      <td>NaN</td>\n",
       "      <td>NaN</td>\n",
       "    </tr>\n",
       "    <tr>\n",
       "      <th>1</th>\n",
       "      <td>2018</td>\n",
       "      <td>10200371</td>\n",
       "      <td>P</td>\n",
       "      <td>2223.797699</td>\n",
       "      <td>NaN</td>\n",
       "      <td>4515.0</td>\n",
       "      <td>G1</td>\n",
       "      <td>1</td>\n",
       "      <td>4</td>\n",
       "      <td>G2</td>\n",
       "      <td>...</td>\n",
       "      <td>NaN</td>\n",
       "      <td>NaN</td>\n",
       "      <td>1.0</td>\n",
       "      <td>70.0</td>\n",
       "      <td>150</td>\n",
       "      <td>200</td>\n",
       "      <td>4.0</td>\n",
       "      <td>NaN</td>\n",
       "      <td>NaN</td>\n",
       "      <td>NaN</td>\n",
       "    </tr>\n",
       "  </tbody>\n",
       "</table>\n",
       "<p>2 rows × 161 columns</p>\n",
       "</div>"
      ],
      "text/plain": [
       "    0         1   2            3    4       5   6    7    8   9    ... 151  \\\n",
       "0  2018  10200261   P  1127.905175  NaN  2255.0  G2    1    2  G1  ... NaN   \n",
       "1  2018  10200371   P  2223.797699  NaN  4515.0  G1    1    4  G2  ... NaN   \n",
       "\n",
       "  152  153   154  155  156  157  158 159 160  \n",
       "0 NaN  1.0  80.0   60  150  4.0  NaN NaN NaN  \n",
       "1 NaN  1.0  70.0  150  200  4.0  NaN NaN NaN  \n",
       "\n",
       "[2 rows x 161 columns]"
      ]
     },
     "execution_count": 3,
     "metadata": {},
     "output_type": "execute_result"
    }
   ],
   "source": [
    "#\n",
    "# 데이터 구성\n",
    "#\n",
    "\n",
    "# [HFWS] 데이터: “가계금융복지조사( 2017년 이후) > 가구마스터(제공)[2018가구금융복지조사]”\n",
    "df = pd.read_csv('https://github.com/bong-ju-kang/kmu-mba-statistics/raw/master/Data/MDIS_2018_HFWS.txt', \n",
    "                 header=None)\n",
    "df.head(2)"
   ]
  },
  {
   "cell_type": "code",
   "execution_count": 4,
   "metadata": {},
   "outputs": [
    {
     "data": {
      "text/plain": [
       "5364.0"
      ]
     },
     "execution_count": 4,
     "metadata": {},
     "output_type": "execute_result"
    }
   ],
   "source": [
    "# 가구당 연간 소득액: 110번째\n",
    "income = df[109]\n",
    "np.round(np.mean(income), 1)"
   ]
  },
  {
   "cell_type": "code",
   "execution_count": 5,
   "metadata": {},
   "outputs": [
    {
     "data": {
      "text/plain": [
       "array([5364. , 5818.4])"
      ]
     },
     "execution_count": 5,
     "metadata": {},
     "output_type": "execute_result"
    }
   ],
   "source": [
    "# 모집단으로 가정\n",
    "# 모 평균, 모 표준편차\n",
    "np.round([np.mean(income),np.std(income, ddof=0)], 1 )"
   ]
  },
  {
   "cell_type": "code",
   "execution_count": 6,
   "metadata": {},
   "outputs": [
    {
     "data": {
      "text/plain": [
       "5323.1"
      ]
     },
     "execution_count": 6,
     "metadata": {},
     "output_type": "execute_result"
    }
   ],
   "source": [
    "# 크기가 100인 임의 표본 1개의 표본 평균\n",
    "size = 100\n",
    "np.random.seed(1)\n",
    "\n",
    "# 비복원 추출\n",
    "index = np.random.choice(len(income), size, replace=False)\n",
    "\n",
    "sample_mean = np.mean(income[index])\n",
    "np.round(sample_mean, 1)"
   ]
  },
  {
   "cell_type": "code",
   "execution_count": 7,
   "metadata": {},
   "outputs": [
    {
     "data": {
      "text/plain": [
       "0.0054"
      ]
     },
     "execution_count": 7,
     "metadata": {},
     "output_type": "execute_result"
    }
   ],
   "source": [
    "# 표본 비율\n",
    "np.round(size / len(income), 4)"
   ]
  },
  {
   "cell_type": "code",
   "execution_count": 8,
   "metadata": {},
   "outputs": [
    {
     "data": {
      "text/plain": [
       "5343.76"
      ]
     },
     "execution_count": 8,
     "metadata": {},
     "output_type": "execute_result"
    }
   ],
   "source": [
    "# 표본평균의 평균\n",
    "num_samples = 1000\n",
    "size = 100\n",
    "result = []\n",
    "\n",
    "np.random.seed(123)\n",
    "for i in np.arange(num_samples):\n",
    "    index = np.random.choice(len(income), size, replace=False)\n",
    "    result.append(np.mean(income[index]))\n",
    "np.round(np.mean(result), 2)"
   ]
  },
  {
   "cell_type": "code",
   "execution_count": 9,
   "metadata": {},
   "outputs": [
    {
     "data": {
      "text/plain": [
       "166.67"
      ]
     },
     "execution_count": 9,
     "metadata": {},
     "output_type": "execute_result"
    }
   ],
   "source": [
    "#\n",
    "# 이항분포의 평균의 분포\n",
    "#\n",
    "\n",
    "# 이항 분포 모수 정의\n",
    "num_samples = 100\n",
    "trials = 1000\n",
    "event_prob = 1/6\n",
    "size = 5\n",
    "\n",
    "# 기대값\n",
    "expected_count = trials * event_prob\n",
    "np.round(expected_count, 2)"
   ]
  },
  {
   "cell_type": "code",
   "execution_count": 10,
   "metadata": {},
   "outputs": [
    {
     "data": {
      "text/plain": [
       "166.23"
      ]
     },
     "execution_count": 10,
     "metadata": {},
     "output_type": "execute_result"
    }
   ],
   "source": [
    "# 표본 성공건수의 평균\n",
    "result = []\n",
    "\n",
    "np.random.seed(1234)\n",
    "for i in np.arange(num_samples):\n",
    "    value = np.random.binomial(n=trials, p=event_prob, size=size)\n",
    "    result.append(np.mean(value))\n",
    "\n",
    "np.round(np.mean(result), 2)"
   ]
  },
  {
   "cell_type": "code",
   "execution_count": 11,
   "metadata": {},
   "outputs": [
    {
     "data": {
      "text/plain": [
       "0.0062"
      ]
     },
     "execution_count": 11,
     "metadata": {},
     "output_type": "execute_result"
    }
   ],
   "source": [
    "# CLT를 이용한 확률 계산\n",
    "z = (30-100*1/5)/np.sqrt(100*1/5*4/5)\n",
    "prob = 1 - ss.norm.cdf(z)\n",
    "prob.round(4)"
   ]
  },
  {
   "cell_type": "markdown",
   "metadata": {},
   "source": [
    "## 카이제곱 분포"
   ]
  },
  {
   "cell_type": "code",
   "execution_count": 12,
   "metadata": {},
   "outputs": [
    {
     "data": {
      "text/latex": [
       "$\\displaystyle k$"
      ],
      "text/plain": [
       "k"
      ]
     },
     "execution_count": 12,
     "metadata": {},
     "output_type": "execute_result"
    }
   ],
   "source": [
    "# 적률생성 함수를 이용한 평균과 분산 계산\n",
    "k, t = sympy.symbols('k, t')\n",
    "expr = (1-2*t)**(-k/2)\n",
    "\n",
    "# 1차 적률(기대값)\n",
    "M1 = sympy.Lambda(t, expr.diff(t).simplify())\n",
    "EX = M1(0)\n",
    "EX"
   ]
  },
  {
   "cell_type": "code",
   "execution_count": 13,
   "metadata": {},
   "outputs": [
    {
     "data": {
      "text/latex": [
       "$\\displaystyle k \\left(k + 2\\right)$"
      ],
      "text/plain": [
       "k*(k + 2)"
      ]
     },
     "execution_count": 13,
     "metadata": {},
     "output_type": "execute_result"
    }
   ],
   "source": [
    "# 2차 적률\n",
    "M2 = sympy.Lambda(t, expr.diff(t, t).simplify())\n",
    "EXX = M2(0)\n",
    "EXX"
   ]
  },
  {
   "cell_type": "code",
   "execution_count": 14,
   "metadata": {},
   "outputs": [
    {
     "data": {
      "text/latex": [
       "$\\displaystyle 2 k$"
      ],
      "text/plain": [
       "2*k"
      ]
     },
     "execution_count": 14,
     "metadata": {},
     "output_type": "execute_result"
    }
   ],
   "source": [
    "# 분산\n",
    "(EXX- EX**2).simplify()"
   ]
  },
  {
   "cell_type": "markdown",
   "metadata": {},
   "source": [
    "## t 분포"
   ]
  },
  {
   "cell_type": "code",
   "execution_count": 15,
   "metadata": {},
   "outputs": [
    {
     "data": {
      "text/plain": [
       "0.037"
      ]
     },
     "execution_count": 15,
     "metadata": {},
     "output_type": "execute_result"
    }
   ],
   "source": [
    "# 확률 계산\n",
    "dof = 10\n",
    "prob = 1 - ss.t.cdf(2, df=dof)\n",
    "prob.round(3)"
   ]
  },
  {
   "cell_type": "markdown",
   "metadata": {},
   "source": [
    "## F 분포"
   ]
  },
  {
   "cell_type": "code",
   "execution_count": 16,
   "metadata": {},
   "outputs": [
    {
     "data": {
      "text/plain": [
       "0.024"
      ]
     },
     "execution_count": 16,
     "metadata": {},
     "output_type": "execute_result"
    }
   ],
   "source": [
    "# 확률 계산\n",
    "dof = [90, 100]\n",
    "prob = 1 - ss.f.cdf(1.5, dfn=dof[0], dfd=dof[1])\n",
    "prob.round(3)"
   ]
  },
  {
   "cell_type": "code",
   "execution_count": 17,
   "metadata": {},
   "outputs": [
    {
     "data": {
      "text/plain": [
       "1.402"
      ]
     },
     "execution_count": 17,
     "metadata": {},
     "output_type": "execute_result"
    }
   ],
   "source": [
    "# 상위 % 지정 후 분위수 계산: ppf(percent point function) 함수\n",
    "alpha = 0.05\n",
    "dof = [90, 100]\n",
    "qpoint = ss.f.ppf(1-alpha, dfn=dof[0], dfd=dof[1])\n",
    "qpoint.round(3)"
   ]
  }
 ],
 "metadata": {
  "kernelspec": {
   "display_name": "Python 3",
   "language": "python",
   "name": "python3"
  },
  "language_info": {
   "codemirror_mode": {
    "name": "ipython",
    "version": 3
   },
   "file_extension": ".py",
   "mimetype": "text/x-python",
   "name": "python",
   "nbconvert_exporter": "python",
   "pygments_lexer": "ipython3",
   "version": "3.7.6"
  }
 },
 "nbformat": 4,
 "nbformat_minor": 2
}
