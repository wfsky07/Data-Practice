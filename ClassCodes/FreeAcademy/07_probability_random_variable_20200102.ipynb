{
 "cells": [
  {
   "cell_type": "markdown",
   "metadata": {},
   "source": [
    "# 파이썬 기반의 AI를 위한 기초수학, 확률및통계"
   ]
  },
  {
   "cell_type": "code",
   "execution_count": 1,
   "metadata": {},
   "outputs": [],
   "source": [
    "## 강봉주 \n",
    "## bonjour.kang@gmail.com\n",
    "##\n",
    "## 확률과 확률 변수\n",
    "##"
   ]
  },
  {
   "cell_type": "code",
   "execution_count": 2,
   "metadata": {},
   "outputs": [
    {
     "data": {
      "text/plain": [
       "'1.3.2'"
      ]
     },
     "execution_count": 2,
     "metadata": {},
     "output_type": "execute_result"
    }
   ],
   "source": [
    "# 필요한 패키지\n",
    "import numpy as np\n",
    "import scipy\n",
    "from scipy import linalg as la\n",
    "import matplotlib.pyplot as plt\n",
    "\n",
    "import scipy.stats as ss\n",
    "import sympy\n",
    "\n",
    "# 한글출력\n",
    "plt.rcParams['font.family'] = 'Malgun Gothic'\n",
    "plt.rcParams['axes.unicode_minus'] = False\n",
    "\n",
    "scipy.__version__"
   ]
  },
  {
   "cell_type": "markdown",
   "metadata": {},
   "source": [
    "## 확률 밀도 함수"
   ]
  },
  {
   "cell_type": "code",
   "execution_count": 3,
   "metadata": {},
   "outputs": [],
   "source": [
    "# 예제: 이산형 확률 밀도 함수\n",
    "# 이항 분포\n",
    "# 4번 시행에서 성공확률이 1/2인 경우\n",
    "# 𝐴={0, 1, 2}의 확률을 계산해보자"
   ]
  },
  {
   "cell_type": "code",
   "execution_count": 4,
   "metadata": {},
   "outputs": [
    {
     "data": {
      "text/plain": [
       "0.6875"
      ]
     },
     "execution_count": 4,
     "metadata": {},
     "output_type": "execute_result"
    }
   ],
   "source": [
    "# 해답\n",
    "import scipy.special\n",
    "A = [0, 1, 2]\n",
    "trials = 4\n",
    "event_prob = 1/2\n",
    "np.sum(scipy.special.comb(trials, A) * event_prob ** trials)"
   ]
  },
  {
   "cell_type": "code",
   "execution_count": 5,
   "metadata": {},
   "outputs": [
    {
     "data": {
      "text/latex": [
       "$\\displaystyle 1$"
      ],
      "text/plain": [
       "1"
      ]
     },
     "execution_count": 5,
     "metadata": {},
     "output_type": "execute_result"
    }
   ],
   "source": [
    "x = sympy.Symbol('x')\n",
    "PA = sympy.integrate(sympy.exp(-x), (x, 0, sympy.oo))\n",
    "PA"
   ]
  },
  {
   "cell_type": "code",
   "execution_count": 6,
   "metadata": {},
   "outputs": [
    {
     "data": {
      "text/latex": [
       "$\\displaystyle 1 - e^{-1}$"
      ],
      "text/plain": [
       "1 - exp(-1)"
      ]
     },
     "execution_count": 6,
     "metadata": {},
     "output_type": "execute_result"
    }
   ],
   "source": [
    "# 특정 이벤트의 확률 구하기\n",
    "x = sympy.Symbol('x')\n",
    "PA = sympy.integrate(sympy.exp(-x), (x, 0, 1))\n",
    "PA"
   ]
  },
  {
   "cell_type": "code",
   "execution_count": 7,
   "metadata": {},
   "outputs": [],
   "source": [
    "# 예제: 균등 분포의 분포함수\n",
    "# 1) 구간 [0, 1]에서 정의된 균등 분포의 분포 함수를\n",
    "# 정의하세요\n",
    "# 2) 분포 함수를 x값에 따른 그래프를 그리세요"
   ]
  },
  {
   "cell_type": "code",
   "execution_count": 8,
   "metadata": {},
   "outputs": [
    {
     "data": {
      "text/latex": [
       "$\\displaystyle x$"
      ],
      "text/plain": [
       "x"
      ]
     },
     "execution_count": 8,
     "metadata": {},
     "output_type": "execute_result"
    }
   ],
   "source": [
    "# 해답\n",
    "#1)\n",
    "a, b, x = sympy.symbols('a, b, x')\n",
    "x = sympy.Symbol('x')\n",
    "F = sympy.Lambda((x, a, b), x/(b-a))\n",
    "F(x, 0, 1)"
   ]
  },
  {
   "cell_type": "code",
   "execution_count": 9,
   "metadata": {
    "scrolled": false
   },
   "outputs": [
    {
     "data": {
      "image/png": "[encoded data removed]",
      "text/plain": [
       "<Figure size 504x504 with 1 Axes>"
      ]
     },
     "metadata": {
      "needs_background": "light"
     },
     "output_type": "display_data"
    }
   ],
   "source": [
    "# 2)\n",
    "x = np.linspace(0,1, 100)\n",
    "cdf_x = x\n",
    "\n",
    "fig, ax = plt.subplots(figsize=(7,7))\n",
    "ax.plot(x, cdf_x)\n",
    "ax.set_xlabel(\"균등확률변수값\")\n",
    "ax.set_ylabel(\"F(x)=Pr(X<=x)\")\n",
    "\n",
    "plt.tight_layout()"
   ]
  },
  {
   "cell_type": "code",
   "execution_count": 10,
   "metadata": {},
   "outputs": [
    {
     "data": {
      "text/latex": [
       "$\\displaystyle 0$"
      ],
      "text/plain": [
       "0"
      ]
     },
     "execution_count": 10,
     "metadata": {},
     "output_type": "execute_result"
    }
   ],
   "source": [
    "# 균등 분포의 기대값 구하기\n",
    "x = sympy.Symbol('x')\n",
    "mu = sympy.integrate(x*1/2, (x, -1, 1))\n",
    "mu"
   ]
  },
  {
   "cell_type": "code",
   "execution_count": 11,
   "metadata": {},
   "outputs": [
    {
     "data": {
      "text/latex": [
       "$\\displaystyle \\frac{1}{3}$"
      ],
      "text/plain": [
       "1/3"
      ]
     },
     "execution_count": 11,
     "metadata": {},
     "output_type": "execute_result"
    }
   ],
   "source": [
    "# 분산 구하기\n",
    "EX2 = sympy.integrate(x**2*1/2, (x, -1, 1))\n",
    "EX2"
   ]
  },
  {
   "cell_type": "code",
   "execution_count": 12,
   "metadata": {},
   "outputs": [
    {
     "data": {
      "text/latex": [
       "$\\displaystyle \\frac{1}{3}$"
      ],
      "text/plain": [
       "1/3"
      ]
     },
     "execution_count": 12,
     "metadata": {},
     "output_type": "execute_result"
    }
   ],
   "source": [
    "sigma2 = EX2 - mu**2\n",
    "sigma2"
   ]
  },
  {
   "cell_type": "code",
   "execution_count": 13,
   "metadata": {},
   "outputs": [
    {
     "data": {
      "text/latex": [
       "$\\displaystyle \\frac{\\sqrt{3}}{3}$"
      ],
      "text/plain": [
       "sqrt(3)/3"
      ]
     },
     "execution_count": 13,
     "metadata": {},
     "output_type": "execute_result"
    }
   ],
   "source": [
    "sigma = sympy.sqrt(sigma2)\n",
    "sigma"
   ]
  },
  {
   "cell_type": "code",
   "execution_count": 14,
   "metadata": {
    "scrolled": false
   },
   "outputs": [
    {
     "data": {
      "text/latex": [
       "$\\displaystyle \\frac{a + b}{2}$"
      ],
      "text/plain": [
       "(a + b)/2"
      ]
     },
     "execution_count": 14,
     "metadata": {},
     "output_type": "execute_result"
    }
   ],
   "source": [
    "# 기대값\n",
    "import sympy\n",
    "\n",
    "a, b, x = sympy.symbols('a, b, x')\n",
    "mu = sympy.integrate(x/(b-a), (x, a, b))\n",
    "mu.simplify().together()"
   ]
  },
  {
   "cell_type": "code",
   "execution_count": 15,
   "metadata": {},
   "outputs": [
    {
     "data": {
      "text/latex": [
       "$\\displaystyle \\frac{a^{2} + a b + b^{2}}{3}$"
      ],
      "text/plain": [
       "(a**2 + a*b + b**2)/3"
      ]
     },
     "execution_count": 15,
     "metadata": {},
     "output_type": "execute_result"
    }
   ],
   "source": [
    "# 제곱 기대값\n",
    "EX2 = sympy.integrate(x**2/(b-a), (x, a, b))\n",
    "EX2.simplify().factor()"
   ]
  },
  {
   "cell_type": "code",
   "execution_count": 16,
   "metadata": {},
   "outputs": [
    {
     "data": {
      "text/latex": [
       "$\\displaystyle \\frac{\\left(a - b\\right)^{2}}{12}$"
      ],
      "text/plain": [
       "(a - b)**2/12"
      ]
     },
     "execution_count": 16,
     "metadata": {},
     "output_type": "execute_result"
    }
   ],
   "source": [
    "# 분산 계산\n",
    "sigma2 = EX2 - mu**2\n",
    "sigma2.simplify().factor()"
   ]
  },
  {
   "cell_type": "code",
   "execution_count": 17,
   "metadata": {},
   "outputs": [
    {
     "data": {
      "text/latex": [
       "$\\displaystyle \\left(\\mu + \\sigma^{2} t\\right) e^{\\mu t + \\frac{\\sigma^{2} t^{2}}{2}}$"
      ],
      "text/plain": [
       "(mu + sigma**2*t)*exp(mu*t + sigma**2*t**2/2)"
      ]
     },
     "execution_count": 17,
     "metadata": {},
     "output_type": "execute_result"
    }
   ],
   "source": [
    "# 적률 함수를 이용한 평균, 분산 구하기\n",
    "mu, sigma, t = sympy.symbols('mu, sigma, t')\n",
    "m_gen= sympy.exp(mu*t + (sigma**2 * t**2)/2)\n",
    "# 1차 적률 구하기\n",
    "m_gen.diff(t)"
   ]
  },
  {
   "cell_type": "code",
   "execution_count": 18,
   "metadata": {},
   "outputs": [
    {
     "data": {
      "text/latex": [
       "$\\displaystyle \\mu$"
      ],
      "text/plain": [
       "mu"
      ]
     },
     "execution_count": 18,
     "metadata": {},
     "output_type": "execute_result"
    }
   ],
   "source": [
    "# 1차 적률: t=0\n",
    "m_gen_func = sympy.Lambda(t, m_gen.diff(t))\n",
    "EX = m_gen_func(0)\n",
    "EX"
   ]
  },
  {
   "cell_type": "code",
   "execution_count": 19,
   "metadata": {},
   "outputs": [
    {
     "data": {
      "text/latex": [
       "$\\displaystyle \\left(\\sigma^{2} + \\left(\\mu + \\sigma^{2} t\\right)^{2}\\right) e^{t \\left(\\mu + \\frac{\\sigma^{2} t}{2}\\right)}$"
      ],
      "text/plain": [
       "(sigma**2 + (mu + sigma**2*t)**2)*exp(t*(mu + sigma**2*t/2))"
      ]
     },
     "execution_count": 19,
     "metadata": {},
     "output_type": "execute_result"
    }
   ],
   "source": [
    "# 2차 적률 구하기\n",
    "m_gen.diff(t, 2)"
   ]
  },
  {
   "cell_type": "code",
   "execution_count": 20,
   "metadata": {},
   "outputs": [
    {
     "data": {
      "text/latex": [
       "$\\displaystyle \\mu^{2} + \\sigma^{2}$"
      ],
      "text/plain": [
       "mu**2 + sigma**2"
      ]
     },
     "execution_count": 20,
     "metadata": {},
     "output_type": "execute_result"
    }
   ],
   "source": [
    "m_gen_func = sympy.Lambda(t, m_gen.diff(t, 2))\n",
    "# 2차 적률: t=0\n",
    "EX2 = m_gen_func(0)\n",
    "EX2"
   ]
  },
  {
   "cell_type": "code",
   "execution_count": 21,
   "metadata": {},
   "outputs": [
    {
     "data": {
      "text/latex": [
       "$\\displaystyle \\sigma^{2}$"
      ],
      "text/plain": [
       "sigma**2"
      ]
     },
     "execution_count": 21,
     "metadata": {},
     "output_type": "execute_result"
    }
   ],
   "source": [
    "# 분산\n",
    "EX2 - EX**2"
   ]
  }
 ],
 "metadata": {
  "kernelspec": {
   "display_name": "Python 3",
   "language": "python",
   "name": "python3"
  },
  "language_info": {
   "codemirror_mode": {
    "name": "ipython",
    "version": 3
   },
   "file_extension": ".py",
   "mimetype": "text/x-python",
   "name": "python",
   "nbconvert_exporter": "python",
   "pygments_lexer": "ipython3",
   "version": "3.7.6"
  }
 },
 "nbformat": 4,
 "nbformat_minor": 2
}
