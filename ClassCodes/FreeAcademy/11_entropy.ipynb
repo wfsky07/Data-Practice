{
 "cells": [
  {
   "cell_type": "markdown",
   "metadata": {},
   "source": [
    "# 파이썬 기반의 AI를 위한 기초수학, 확률및통계"
   ]
  },
  {
   "cell_type": "code",
   "execution_count": 1,
   "metadata": {},
   "outputs": [],
   "source": [
    "## 강봉주 \n",
    "## bonjour.kang@gmail.com\n",
    "##\n",
    "## 정보이론\n",
    "##"
   ]
  },
  {
   "cell_type": "code",
   "execution_count": 2,
   "metadata": {},
   "outputs": [
    {
     "data": {
      "text/plain": [
       "'v0.1.9'"
      ]
     },
     "execution_count": 2,
     "metadata": {},
     "output_type": "execute_result"
    }
   ],
   "source": [
    "import numpy as np\n",
    "from scipy.stats import entropy\n",
    "import matplotlib.pyplot as plt\n",
    "from pgmpy.factors.discrete import JointProbabilityDistribution as JPD\n",
    "import pgmpy\n",
    "\n",
    "pgmpy.__version__"
   ]
  },
  {
   "cell_type": "code",
   "execution_count": 3,
   "metadata": {},
   "outputs": [
    {
     "data": {
      "text/plain": [
       "array([1.   , 0.693])"
      ]
     },
     "execution_count": 3,
     "metadata": {},
     "output_type": "execute_result"
    }
   ],
   "source": [
    "# 예제\n",
    "# 동전 던지기\n",
    "pk = [1/2, 1/2]\n",
    "np.round([entropy(pk, base=2), entropy(pk, base=np.e)], 3)"
   ]
  },
  {
   "cell_type": "code",
   "execution_count": 4,
   "metadata": {},
   "outputs": [
    {
     "data": {
      "text/plain": [
       "array([2.585, 1.792])"
      ]
     },
     "execution_count": 4,
     "metadata": {},
     "output_type": "execute_result"
    }
   ],
   "source": [
    "# 주사위 던지기\n",
    "pk = 1/6*np.ones(6)\n",
    "np.round([entropy(pk, base=2), entropy(pk, base=np.e)], 3)"
   ]
  },
  {
   "cell_type": "code",
   "execution_count": 5,
   "metadata": {},
   "outputs": [
    {
     "data": {
      "text/plain": [
       "1.657"
      ]
     },
     "execution_count": 5,
     "metadata": {},
     "output_type": "execute_result"
    }
   ],
   "source": [
    "# 예제\n",
    "# 결합 엔트로피\n",
    "pk = 1/15 * np.array([2, 4, 3, 1, 1, 4])\n",
    "log_pk = -np.log(pk)\n",
    "H_XY = np.dot(pk, log_pk)\n",
    "H_XY.round(3)"
   ]
  },
  {
   "cell_type": "code",
   "execution_count": 6,
   "metadata": {},
   "outputs": [
    {
     "name": "stdout",
     "output_type": "stream",
     "text": [
      "+------+------+----------+\n",
      "| X    | Y    |   P(X,Y) |\n",
      "+======+======+==========+\n",
      "| X(0) | Y(0) |   0.1333 |\n",
      "+------+------+----------+\n",
      "| X(0) | Y(1) |   0.2667 |\n",
      "+------+------+----------+\n",
      "| X(0) | Y(2) |   0.2000 |\n",
      "+------+------+----------+\n",
      "| X(1) | Y(0) |   0.0667 |\n",
      "+------+------+----------+\n",
      "| X(1) | Y(1) |   0.0667 |\n",
      "+------+------+----------+\n",
      "| X(1) | Y(2) |   0.2667 |\n",
      "+------+------+----------+\n"
     ]
    }
   ],
   "source": [
    "# 예제\n",
    "# 조건부 엔트로피\n",
    "\n",
    "# 결합 확률 정의\n",
    "prob = 1/15 * np.array([2, 4, 3, 1, 1, 4])\n",
    "fxy = JPD(['X', 'Y'],[2, 3], prob)\n",
    "print(fxy)"
   ]
  },
  {
   "cell_type": "code",
   "execution_count": 7,
   "metadata": {
    "scrolled": true
   },
   "outputs": [
    {
     "name": "stdout",
     "output_type": "stream",
     "text": [
      "+------+--------+\n",
      "| X    |   P(X) |\n",
      "+======+========+\n",
      "| X(0) | 0.6667 |\n",
      "+------+--------+\n",
      "| X(1) | 0.3333 |\n",
      "+------+--------+\n"
     ]
    }
   ],
   "source": [
    "# 조건부 확률 예시\n",
    "prob = fxy.conditional_distribution([('Y', 0)], inplace=False)\n",
    "print(prob)"
   ]
  },
  {
   "cell_type": "code",
   "execution_count": 8,
   "metadata": {
    "scrolled": false
   },
   "outputs": [
    {
     "data": {
      "text/plain": [
       "0.613"
      ]
     },
     "execution_count": 8,
     "metadata": {},
     "output_type": "execute_result"
    }
   ],
   "source": [
    "# 조건부 엔트로피 계산\n",
    "res_sum = []\n",
    "\n",
    "# 모든 x에 대하여\n",
    "for i in fxy.state_names['X']:\n",
    "    # 모든 y에 대하여\n",
    "    for j in fxy.state_names['Y']:\n",
    "        cond_y = fxy.conditional_distribution([('Y', j)], inplace=False).values[i]\n",
    "        res = -fxy.values[i,j] * np.log(cond_y)\n",
    "        res_sum.append(res)\n",
    "# 결과\n",
    "np.sum(res_sum).round(3)"
   ]
  },
  {
   "cell_type": "code",
   "execution_count": 9,
   "metadata": {
    "scrolled": true
   },
   "outputs": [
    {
     "data": {
      "text/plain": [
       "0.613"
      ]
     },
     "execution_count": 9,
     "metadata": {},
     "output_type": "execute_result"
    }
   ],
   "source": [
    "# H(X, Y) - H(Y) 이용\n",
    "# H(X, Y) 계산\n",
    "H_XY = np.dot(fxy.values.reshape(-1) ,-np.log(fxy.values.reshape(-1)))\n",
    "\n",
    "# H_Y 계산\n",
    "prob_y = fxy.marginal_distribution(['Y'], inplace=False).values\n",
    "H_Y = np.dot(prob_y ,-np.log(prob_y))\n",
    "\n",
    "# 결과 계산\n",
    "np.round(H_XY-H_Y, 3)"
   ]
  },
  {
   "cell_type": "code",
   "execution_count": 10,
   "metadata": {},
   "outputs": [
    {
     "data": {
      "text/plain": [
       "0.06"
      ]
     },
     "execution_count": 10,
     "metadata": {},
     "output_type": "execute_result"
    }
   ],
   "source": [
    "# 예제\n",
    "# 상호 정보 계산\n",
    "\n",
    "# 결합 확률 정의\n",
    "pxy = 1/15 * np.array([2, 4, 3, 1, 1, 4])\n",
    "fxy = JPD(['X', 'Y'],[2, 3], pxy)\n",
    "\n",
    "# 주변확률 계산\n",
    "px = fxy.marginal_distribution(['X'], inplace=False).values\n",
    "py = fxy.marginal_distribution(['Y'], inplace=False).values\n",
    "\n",
    "# 상호 정보 계산\n",
    "h_xy = np.dot(pxy, -np.log(pxy))\n",
    "h_x = np.dot(px, -np.log(px))\n",
    "h_y = np.dot(py, -np.log(py))\n",
    "\n",
    "# 결과\n",
    "i_xy = h_x + h_y - h_xy\n",
    "i_xy.round(3)"
   ]
  },
  {
   "cell_type": "code",
   "execution_count": 11,
   "metadata": {},
   "outputs": [
    {
     "data": {
      "text/plain": [
       "1.099"
      ]
     },
     "execution_count": 11,
     "metadata": {},
     "output_type": "execute_result"
    }
   ],
   "source": [
    "# 예제\n",
    "# 교차 엔트로피 계산\n",
    "px = [1/4, 1/2, 1/4]\n",
    "qx = [1/3, 1/3, 1/3]\n",
    "\n",
    "hpq = np.dot(px, -np.log(qx))\n",
    "hpq.round(3)"
   ]
  }
 ],
 "metadata": {
  "kernelspec": {
   "display_name": "Python 3",
   "language": "python",
   "name": "python3"
  },
  "language_info": {
   "codemirror_mode": {
    "name": "ipython",
    "version": 3
   },
   "file_extension": ".py",
   "mimetype": "text/x-python",
   "name": "python",
   "nbconvert_exporter": "python",
   "pygments_lexer": "ipython3",
   "version": "3.7.6"
  }
 },
 "nbformat": 4,
 "nbformat_minor": 2
}
