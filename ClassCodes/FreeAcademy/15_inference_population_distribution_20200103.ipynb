{
 "cells": [
  {
   "cell_type": "markdown",
   "metadata": {},
   "source": [
    "# 파이썬 기반의 AI를 위한 기초수학, 확률및통계"
   ]
  },
  {
   "cell_type": "code",
   "execution_count": 1,
   "metadata": {},
   "outputs": [],
   "source": [
    "## 강봉주 \n",
    "## bonjour.kang@gmail.com\n",
    "##\n",
    "## 모집단 분포 추론\n",
    "##"
   ]
  },
  {
   "cell_type": "markdown",
   "metadata": {},
   "source": [
    "## 모평균의 추정 및 검정"
   ]
  },
  {
   "cell_type": "code",
   "execution_count": 2,
   "metadata": {},
   "outputs": [
    {
     "data": {
      "text/plain": [
       "'1.3.2'"
      ]
     },
     "execution_count": 2,
     "metadata": {},
     "output_type": "execute_result"
    }
   ],
   "source": [
    "# 필요한 패키지\n",
    "import numpy as np\n",
    "import pandas as pd\n",
    "import matplotlib.pyplot as plt\n",
    "from matplotlib.ticker import MultipleLocator\n",
    "\n",
    "import scipy\n",
    "from scipy import linalg as la\n",
    "import scipy.stats as ss\n",
    "\n",
    "# 한글출력\n",
    "plt.rcParams['font.family'] = 'Malgun Gothic'\n",
    "plt.rcParams['axes.unicode_minus'] = False\n",
    "\n",
    "scipy.__version__"
   ]
  },
  {
   "cell_type": "code",
   "execution_count": 3,
   "metadata": {},
   "outputs": [
    {
     "data": {
      "text/plain": [
       "array([1.645, 1.96 , 2.576])"
      ]
     },
     "execution_count": 3,
     "metadata": {},
     "output_type": "execute_result"
    }
   ],
   "source": [
    "# 분위수 구하기\n",
    "X = ss.norm(0, 1)\n",
    "alpha = np.array([0.1, 0.05, 0.01])\n",
    "z_alpha_half = X.ppf(1-alpha/2)\n",
    "z_alpha_half.round(3)"
   ]
  },
  {
   "cell_type": "code",
   "execution_count": 4,
   "metadata": {},
   "outputs": [
    {
     "data": {
      "text/plain": [
       "array([1.833, 2.262, 3.25 ])"
      ]
     },
     "execution_count": 4,
     "metadata": {},
     "output_type": "execute_result"
    }
   ],
   "source": [
    "# 모분산이 알려져 있지 않은 경우: t 분포 적용\n",
    "# 분위수 구하기\n",
    "n = 10\n",
    "X = ss.t(df=n-1)\n",
    "alpha = np.array([0.1, 0.05, 0.01])\n",
    "t_alpha_half = X.ppf(1-alpha/2)\n",
    "t_alpha_half.round(3)"
   ]
  },
  {
   "cell_type": "code",
   "execution_count": 5,
   "metadata": {},
   "outputs": [
    {
     "data": {
      "text/plain": [
       "(4521, 17)"
      ]
     },
     "execution_count": 5,
     "metadata": {},
     "output_type": "execute_result"
    }
   ],
   "source": [
    "# [BANK] 데이터 읽기\n",
    "url = 'https://github.com/bong-ju-kang/kmu-mba-statistics-winter/raw/master/data/bank.zip'\n",
    "df = pd.read_csv(url)\n",
    "df.shape"
   ]
  },
  {
   "cell_type": "code",
   "execution_count": 6,
   "metadata": {
    "scrolled": true
   },
   "outputs": [
    {
     "data": {
      "text/plain": [
       "Index(['age', 'job', 'marital', 'education', 'default', 'balance', 'housing',\n",
       "       'loan', 'contact', 'day', 'month', 'duration', 'campaign', 'pdays',\n",
       "       'previous', 'poutcome', 'y'],\n",
       "      dtype='object')"
      ]
     },
     "execution_count": 6,
     "metadata": {},
     "output_type": "execute_result"
    }
   ],
   "source": [
    "df.columns"
   ]
  },
  {
   "cell_type": "code",
   "execution_count": 7,
   "metadata": {},
   "outputs": [
    {
     "data": {
      "text/plain": [
       "1422.66"
      ]
     },
     "execution_count": 7,
     "metadata": {},
     "output_type": "execute_result"
    }
   ],
   "source": [
    "# 변수 정의\n",
    "x = df['balance']\n",
    "\n",
    "# 평균\n",
    "np.round(np.mean(x), 2)"
   ]
  },
  {
   "cell_type": "code",
   "execution_count": 8,
   "metadata": {},
   "outputs": [
    {
     "data": {
      "text/plain": [
       "3009.64"
      ]
     },
     "execution_count": 8,
     "metadata": {},
     "output_type": "execute_result"
    }
   ],
   "source": [
    "# 표본 표준편차\n",
    "np.round(np.std(x, ddof=1), 2)"
   ]
  },
  {
   "cell_type": "code",
   "execution_count": 9,
   "metadata": {},
   "outputs": [
    {
     "data": {
      "text/plain": [
       "44.76"
      ]
     },
     "execution_count": 9,
     "metadata": {},
     "output_type": "execute_result"
    }
   ],
   "source": [
    "#  표본평균 표준편차 정의: np.std(x, ddof=1)/np.sqrt(len(x))\n",
    "scale = ss.sem(x)\n",
    "np.round(scale, 2)"
   ]
  },
  {
   "cell_type": "code",
   "execution_count": 10,
   "metadata": {},
   "outputs": [
    {
     "data": {
      "text/plain": [
       "array([1334.9 , 1510.41])"
      ]
     },
     "execution_count": 10,
     "metadata": {},
     "output_type": "execute_result"
    }
   ],
   "source": [
    "# 신뢰수준 정의\n",
    "confidence = 1 - 0.05\n",
    "\n",
    "# 신뢰 구간\n",
    "confint = ss.t.interval(alpha=confidence, df=len(x)-1, loc=np.mean(x), scale=ss.sem(x))\n",
    "np.round(confint, 2)"
   ]
  },
  {
   "cell_type": "code",
   "execution_count": 11,
   "metadata": {},
   "outputs": [
    {
     "data": {
      "text/plain": [
       "Ttest_1sampResult(statistic=2.740300624371668, pvalue=0.006162411872873913)"
      ]
     },
     "execution_count": 11,
     "metadata": {},
     "output_type": "execute_result"
    }
   ],
   "source": [
    "#  모평균의 유의성 검정\n",
    "null_mean = 1300\n",
    "res = ss.ttest_1samp(x, popmean=null_mean)\n",
    "res"
   ]
  },
  {
   "cell_type": "code",
   "execution_count": 12,
   "metadata": {},
   "outputs": [
    {
     "data": {
      "text/plain": [
       "0.0031"
      ]
     },
     "execution_count": 12,
     "metadata": {},
     "output_type": "execute_result"
    }
   ],
   "source": [
    "# 양측 검정의 결과이므로 해당 p-value를 2로 나눈다.\n",
    "(res.pvalue/2).round(4)"
   ]
  },
  {
   "cell_type": "markdown",
   "metadata": {},
   "source": [
    "## 모 평균의 비교"
   ]
  },
  {
   "cell_type": "markdown",
   "metadata": {},
   "source": [
    "### 짝 비교"
   ]
  },
  {
   "cell_type": "code",
   "execution_count": 13,
   "metadata": {},
   "outputs": [
    {
     "data": {
      "text/html": [
       "<div>\n",
       "<style scoped>\n",
       "    .dataframe tbody tr th:only-of-type {\n",
       "        vertical-align: middle;\n",
       "    }\n",
       "\n",
       "    .dataframe tbody tr th {\n",
       "        vertical-align: top;\n",
       "    }\n",
       "\n",
       "    .dataframe thead th {\n",
       "        text-align: right;\n",
       "    }\n",
       "</style>\n",
       "<table border=\"1\" class=\"dataframe\">\n",
       "  <thead>\n",
       "    <tr style=\"text-align: right;\">\n",
       "      <th></th>\n",
       "      <th>ID</th>\n",
       "      <th>CORFLK</th>\n",
       "      <th>OATBRAN</th>\n",
       "    </tr>\n",
       "  </thead>\n",
       "  <tbody>\n",
       "    <tr>\n",
       "      <th>0</th>\n",
       "      <td>1</td>\n",
       "      <td>4.61</td>\n",
       "      <td>3.84</td>\n",
       "    </tr>\n",
       "    <tr>\n",
       "      <th>1</th>\n",
       "      <td>2</td>\n",
       "      <td>6.42</td>\n",
       "      <td>5.57</td>\n",
       "    </tr>\n",
       "    <tr>\n",
       "      <th>2</th>\n",
       "      <td>3</td>\n",
       "      <td>5.40</td>\n",
       "      <td>5.85</td>\n",
       "    </tr>\n",
       "  </tbody>\n",
       "</table>\n",
       "</div>"
      ],
      "text/plain": [
       "   ID  CORFLK  OATBRAN\n",
       "0   1    4.61     3.84\n",
       "1   2    6.42     5.57\n",
       "2   3    5.40     5.85"
      ]
     },
     "execution_count": 13,
     "metadata": {},
     "output_type": "execute_result"
    }
   ],
   "source": [
    "# 데이터 구성\n",
    "url = 'https://github.com/bong-ju-kang/kmu-mba-statistics-winter/raw/master/data/oatbran.csv'\n",
    "df = pd.read_csv(url)\n",
    "df.head(3)"
   ]
  },
  {
   "cell_type": "code",
   "execution_count": 14,
   "metadata": {},
   "outputs": [
    {
     "data": {
      "text/plain": [
       "Ttest_1sampResult(statistic=3.3443552467926585, pvalue=0.005277682686223332)"
      ]
     },
     "execution_count": 14,
     "metadata": {},
     "output_type": "execute_result"
    }
   ],
   "source": [
    "# 단일 표본의 평균 비교\n",
    "d = df['CORFLK'] - df['OATBRAN']\n",
    "res = ss.ttest_1samp(d, popmean=0)\n",
    "res"
   ]
  },
  {
   "cell_type": "code",
   "execution_count": 15,
   "metadata": {},
   "outputs": [
    {
     "data": {
      "text/plain": [
       "0.0026"
      ]
     },
     "execution_count": 15,
     "metadata": {},
     "output_type": "execute_result"
    }
   ],
   "source": [
    "# 양측 검정이므로 해당 p-value를 2로 나눈다.\n",
    "(res.pvalue/2).round(4)"
   ]
  },
  {
   "cell_type": "markdown",
   "metadata": {},
   "source": [
    "### 2개의 독립 모집단 비교"
   ]
  },
  {
   "cell_type": "code",
   "execution_count": 16,
   "metadata": {},
   "outputs": [
    {
     "data": {
      "text/html": [
       "<div>\n",
       "<style scoped>\n",
       "    .dataframe tbody tr th:only-of-type {\n",
       "        vertical-align: middle;\n",
       "    }\n",
       "\n",
       "    .dataframe tbody tr th {\n",
       "        vertical-align: top;\n",
       "    }\n",
       "\n",
       "    .dataframe thead th {\n",
       "        text-align: right;\n",
       "    }\n",
       "</style>\n",
       "<table border=\"1\" class=\"dataframe\">\n",
       "  <thead>\n",
       "    <tr style=\"text-align: right;\">\n",
       "      <th></th>\n",
       "      <th>0</th>\n",
       "      <th>1</th>\n",
       "      <th>2</th>\n",
       "      <th>3</th>\n",
       "      <th>4</th>\n",
       "      <th>5</th>\n",
       "      <th>6</th>\n",
       "      <th>7</th>\n",
       "      <th>8</th>\n",
       "      <th>9</th>\n",
       "      <th>...</th>\n",
       "      <th>151</th>\n",
       "      <th>152</th>\n",
       "      <th>153</th>\n",
       "      <th>154</th>\n",
       "      <th>155</th>\n",
       "      <th>156</th>\n",
       "      <th>157</th>\n",
       "      <th>158</th>\n",
       "      <th>159</th>\n",
       "      <th>160</th>\n",
       "    </tr>\n",
       "  </thead>\n",
       "  <tbody>\n",
       "    <tr>\n",
       "      <th>0</th>\n",
       "      <td>2018</td>\n",
       "      <td>10200261</td>\n",
       "      <td>P</td>\n",
       "      <td>1127.905175</td>\n",
       "      <td>NaN</td>\n",
       "      <td>2255.0</td>\n",
       "      <td>G2</td>\n",
       "      <td>1</td>\n",
       "      <td>2</td>\n",
       "      <td>G1</td>\n",
       "      <td>...</td>\n",
       "      <td>NaN</td>\n",
       "      <td>NaN</td>\n",
       "      <td>1.0</td>\n",
       "      <td>80.0</td>\n",
       "      <td>60</td>\n",
       "      <td>150</td>\n",
       "      <td>4.0</td>\n",
       "      <td>NaN</td>\n",
       "      <td>NaN</td>\n",
       "      <td>NaN</td>\n",
       "    </tr>\n",
       "    <tr>\n",
       "      <th>1</th>\n",
       "      <td>2018</td>\n",
       "      <td>10200371</td>\n",
       "      <td>P</td>\n",
       "      <td>2223.797699</td>\n",
       "      <td>NaN</td>\n",
       "      <td>4515.0</td>\n",
       "      <td>G1</td>\n",
       "      <td>1</td>\n",
       "      <td>4</td>\n",
       "      <td>G2</td>\n",
       "      <td>...</td>\n",
       "      <td>NaN</td>\n",
       "      <td>NaN</td>\n",
       "      <td>1.0</td>\n",
       "      <td>70.0</td>\n",
       "      <td>150</td>\n",
       "      <td>200</td>\n",
       "      <td>4.0</td>\n",
       "      <td>NaN</td>\n",
       "      <td>NaN</td>\n",
       "      <td>NaN</td>\n",
       "    </tr>\n",
       "    <tr>\n",
       "      <th>2</th>\n",
       "      <td>2018</td>\n",
       "      <td>10201191</td>\n",
       "      <td>P</td>\n",
       "      <td>701.129372</td>\n",
       "      <td>NaN</td>\n",
       "      <td>1424.0</td>\n",
       "      <td>G1</td>\n",
       "      <td>1</td>\n",
       "      <td>4</td>\n",
       "      <td>G2</td>\n",
       "      <td>...</td>\n",
       "      <td>NaN</td>\n",
       "      <td>NaN</td>\n",
       "      <td>1.0</td>\n",
       "      <td>58.0</td>\n",
       "      <td>300</td>\n",
       "      <td>500</td>\n",
       "      <td>3.0</td>\n",
       "      <td>NaN</td>\n",
       "      <td>NaN</td>\n",
       "      <td>NaN</td>\n",
       "    </tr>\n",
       "  </tbody>\n",
       "</table>\n",
       "<p>3 rows × 161 columns</p>\n",
       "</div>"
      ],
      "text/plain": [
       "    0         1   2            3    4       5   6    7    8   9    ... 151  \\\n",
       "0  2018  10200261   P  1127.905175  NaN  2255.0  G2    1    2  G1  ... NaN   \n",
       "1  2018  10200371   P  2223.797699  NaN  4515.0  G1    1    4  G2  ... NaN   \n",
       "2  2018  10201191   P   701.129372  NaN  1424.0  G1    1    4  G2  ... NaN   \n",
       "\n",
       "  152  153   154  155  156  157  158 159 160  \n",
       "0 NaN  1.0  80.0   60  150  4.0  NaN NaN NaN  \n",
       "1 NaN  1.0  70.0  150  200  4.0  NaN NaN NaN  \n",
       "2 NaN  1.0  58.0  300  500  3.0  NaN NaN NaN  \n",
       "\n",
       "[3 rows x 161 columns]"
      ]
     },
     "execution_count": 16,
     "metadata": {},
     "output_type": "execute_result"
    }
   ],
   "source": [
    "# 데이터 구성\n",
    "url = 'https://github.com/bong-ju-kang/kmu-mba-statistics-winter/raw/master/data/MDIS_2018_HFWS.txt'\n",
    "df = pd.read_csv(url, header=None)\n",
    "df.head(3)"
   ]
  },
  {
   "cell_type": "code",
   "execution_count": 17,
   "metadata": {},
   "outputs": [
    {
     "data": {
      "text/plain": [
       "39347.948"
      ]
     },
     "execution_count": 17,
     "metadata": {},
     "output_type": "execute_result"
    }
   ],
   "source": [
    "# 가구주 연령대: 22번째 열\n",
    "# 순자산; 109번째 열\n",
    "\n",
    "# 40 대 순자산 데이터\n",
    "x = df[df.iloc[:, 21] == 'G04'].iloc[:, 108]\n",
    "np.round(x.mean(), 3)"
   ]
  },
  {
   "cell_type": "code",
   "execution_count": 18,
   "metadata": {},
   "outputs": [
    {
     "data": {
      "text/plain": [
       "63218.508"
      ]
     },
     "execution_count": 18,
     "metadata": {},
     "output_type": "execute_result"
    }
   ],
   "source": [
    "np.round(x.std(), 3)"
   ]
  },
  {
   "cell_type": "code",
   "execution_count": 19,
   "metadata": {},
   "outputs": [
    {
     "data": {
      "text/plain": [
       "34450.749"
      ]
     },
     "execution_count": 19,
     "metadata": {},
     "output_type": "execute_result"
    }
   ],
   "source": [
    "# 50 대 순자산 데이터\n",
    "y = df[df.iloc[:, 21] == 'G05'].iloc[:, 108]\n",
    "np.round(y.mean(), 3)"
   ]
  },
  {
   "cell_type": "code",
   "execution_count": 20,
   "metadata": {},
   "outputs": [
    {
     "data": {
      "text/plain": [
       "65620.641"
      ]
     },
     "execution_count": 20,
     "metadata": {},
     "output_type": "execute_result"
    }
   ],
   "source": [
    "np.round(y.std(), 3)"
   ]
  },
  {
   "cell_type": "code",
   "execution_count": 21,
   "metadata": {},
   "outputs": [
    {
     "data": {
      "text/plain": [
       "Ttest_indResult(statistic=4.027404466323176, pvalue=5.6837625799562505e-05)"
      ]
     },
     "execution_count": 21,
     "metadata": {},
     "output_type": "execute_result"
    }
   ],
   "source": [
    "# 순자산 차이에 대한 검정\n",
    "res = ss.ttest_ind(x, y, equal_var=False)\n",
    "res"
   ]
  },
  {
   "cell_type": "code",
   "execution_count": 22,
   "metadata": {},
   "outputs": [
    {
     "data": {
      "text/plain": [
       "0.0"
      ]
     },
     "execution_count": 22,
     "metadata": {},
     "output_type": "execute_result"
    }
   ],
   "source": [
    "# 양측 검정이므로 해당 p-value / 2\n",
    "(res.pvalue/2).round(3)"
   ]
  },
  {
   "cell_type": "code",
   "execution_count": 23,
   "metadata": {},
   "outputs": [
    {
     "data": {
      "text/plain": [
       "Ttest_indResult(statistic=3.9875217708387836, pvalue=6.716389065729837e-05)"
      ]
     },
     "execution_count": 23,
     "metadata": {},
     "output_type": "execute_result"
    }
   ],
   "source": [
    "# 분산이 동일하다는 가정\n",
    "res = ss.ttest_ind(x, y, equal_var=True)\n",
    "res"
   ]
  },
  {
   "cell_type": "markdown",
   "metadata": {},
   "source": [
    "## 모분산의 추정 및 검정"
   ]
  },
  {
   "cell_type": "markdown",
   "metadata": {},
   "source": [
    "### 모분산 신뢰 구간"
   ]
  },
  {
   "cell_type": "code",
   "execution_count": 24,
   "metadata": {},
   "outputs": [
    {
     "data": {
      "text/plain": [
       "3205003390.167"
      ]
     },
     "execution_count": 24,
     "metadata": {},
     "output_type": "execute_result"
    }
   ],
   "source": [
    "# [HWSF] 데이터의 순자산\n",
    "x = df.iloc[:, 108]\n",
    "\n",
    "np.round(np.var(x), 3)"
   ]
  },
  {
   "cell_type": "code",
   "execution_count": 25,
   "metadata": {},
   "outputs": [
    {
     "data": {
      "text/plain": [
       "array([3.14108451e+09, 3.27125730e+09])"
      ]
     },
     "execution_count": 25,
     "metadata": {},
     "output_type": "execute_result"
    }
   ],
   "source": [
    "# 모분산 신뢰 구간\n",
    "\n",
    "# 유의수준 정의\n",
    "alpha = 0.05\n",
    "\n",
    "# 표본 크기 정의\n",
    "n = len(x)\n",
    "\n",
    "# 표본 분산 정의\n",
    "s2 = np.var(x, ddof=1)\n",
    "\n",
    "upper = (n - 1) * s2 / ss.chi2.ppf(alpha / 2, n-1)\n",
    "lower = (n - 1) * s2 / ss.chi2.ppf(1 - alpha / 2, n-1)\n",
    "# (lower, upper)\n",
    "np.round([lower, upper], 3)"
   ]
  },
  {
   "cell_type": "markdown",
   "metadata": {},
   "source": [
    "### 모 분산비의 추정"
   ]
  },
  {
   "cell_type": "code",
   "execution_count": 26,
   "metadata": {},
   "outputs": [],
   "source": [
    "# 데이터 구성\n",
    "# 가구주 연령대: 22번째 열\n",
    "# 순자산; 109번째 열\n",
    "\n",
    "# 40 대 순자산 데이터\n",
    "x = df[df.iloc[:, 21] == 'G04'].iloc[:, 108]\n",
    "\n",
    "# 50 대 순자산 데이터\n",
    "y = df[df.iloc[:, 21] == 'G05'].iloc[:, 108]"
   ]
  },
  {
   "cell_type": "code",
   "execution_count": 27,
   "metadata": {},
   "outputs": [
    {
     "data": {
      "text/plain": [
       "0.928"
      ]
     },
     "execution_count": 27,
     "metadata": {},
     "output_type": "execute_result"
    }
   ],
   "source": [
    "# 유의 수준 정의\n",
    "alpha = 0.05\n",
    "\n",
    "# 표본분산 비 정의\n",
    "ratio = np.var(x, ddof=1)/np.var(y, ddof=2)\n",
    "np.round(ratio, 3)"
   ]
  },
  {
   "cell_type": "code",
   "execution_count": 28,
   "metadata": {},
   "outputs": [
    {
     "data": {
      "text/plain": [
       "array([0.881, 0.978])"
      ]
     },
     "execution_count": 28,
     "metadata": {},
     "output_type": "execute_result"
    }
   ],
   "source": [
    "# F 분위수 정의\n",
    "Falpha = ss.f.ppf(alpha/2, len(x)-1, len(y)-1)\n",
    "F1minusAlpha= ss.f.ppf(1-alpha/2, len(x)-1, len(y)-1)\n",
    "\n",
    "# 100(1-alpha)% 신뢰 구간\n",
    "np.round([1/F1minusAlpha*ratio, 1/Falpha*ratio], 3)"
   ]
  },
  {
   "cell_type": "markdown",
   "metadata": {},
   "source": [
    "### 모분산 비에 대한 검정"
   ]
  },
  {
   "cell_type": "code",
   "execution_count": 29,
   "metadata": {},
   "outputs": [
    {
     "data": {
      "text/plain": [
       "0.0014"
      ]
     },
     "execution_count": 29,
     "metadata": {},
     "output_type": "execute_result"
    }
   ],
   "source": [
    "# 유의 수준 정의\n",
    "alpha = 0.05\n",
    "\n",
    "# p-value 계산: 양측 검정\n",
    "pvalue = ss.f.cdf(ratio, len(x)-1, len(y)-1)/2\n",
    "pvalue.round(4)"
   ]
  }
 ],
 "metadata": {
  "kernelspec": {
   "display_name": "Python 3",
   "language": "python",
   "name": "python3"
  },
  "language_info": {
   "codemirror_mode": {
    "name": "ipython",
    "version": 3
   },
   "file_extension": ".py",
   "mimetype": "text/x-python",
   "name": "python",
   "nbconvert_exporter": "python",
   "pygments_lexer": "ipython3",
   "version": "3.7.6"
  }
 },
 "nbformat": 4,
 "nbformat_minor": 2
}
