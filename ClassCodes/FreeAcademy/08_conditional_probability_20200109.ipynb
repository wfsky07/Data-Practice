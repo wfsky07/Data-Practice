{
 "cells": [
  {
   "cell_type": "markdown",
   "metadata": {},
   "source": [
    "# 파이썬 기반의 AI를 위한 기초수학, 확률및통계"
   ]
  },
  {
   "cell_type": "code",
   "execution_count": 1,
   "metadata": {},
   "outputs": [],
   "source": [
    "## 강봉주 \n",
    "## bonjour.kang@gmail.com\n",
    "##\n",
    "## 조건부 확률과 독립\n",
    "##"
   ]
  },
  {
   "cell_type": "code",
   "execution_count": 2,
   "metadata": {},
   "outputs": [
    {
     "data": {
      "text/plain": [
       "'v0.1.9'"
      ]
     },
     "execution_count": 2,
     "metadata": {},
     "output_type": "execute_result"
    }
   ],
   "source": [
    "# 필요한 패키지\n",
    "import numpy as np\n",
    "import scipy\n",
    "from scipy import linalg as la\n",
    "import matplotlib.pyplot as plt\n",
    "\n",
    "import scipy.stats as ss\n",
    "import sympy\n",
    "\n",
    "# 한글출력\n",
    "plt.rcParams['font.family'] = 'Malgun Gothic'\n",
    "plt.rcParams['axes.unicode_minus'] = False\n",
    "\n",
    "# 필요한 패키지 2\n",
    "from pgmpy.factors.discrete import JointProbabilityDistribution as JPD\n",
    "import pgmpy\n",
    "pgmpy.__version__"
   ]
  },
  {
   "cell_type": "markdown",
   "metadata": {},
   "source": [
    "## 주변 분포와 조건부 분포"
   ]
  },
  {
   "cell_type": "code",
   "execution_count": 3,
   "metadata": {
    "scrolled": true
   },
   "outputs": [
    {
     "name": "stdout",
     "output_type": "stream",
     "text": [
      "+-------+-------+------------+\n",
      "| X1    | X2    |   P(X1,X2) |\n",
      "+=======+=======+============+\n",
      "| X1(0) | X2(0) |     0.0952 |\n",
      "+-------+-------+------------+\n",
      "| X1(0) | X2(1) |     0.1429 |\n",
      "+-------+-------+------------+\n",
      "| X1(1) | X2(0) |     0.1429 |\n",
      "+-------+-------+------------+\n",
      "| X1(1) | X2(1) |     0.1905 |\n",
      "+-------+-------+------------+\n",
      "| X1(2) | X2(0) |     0.1905 |\n",
      "+-------+-------+------------+\n",
      "| X1(2) | X2(1) |     0.2381 |\n",
      "+-------+-------+------------+\n"
     ]
    }
   ],
   "source": [
    "# 결합 확률 정의\n",
    "from pgmpy.factors.discrete import JointProbabilityDistribution as JPD\n",
    "\n",
    "prob = list()\n",
    "for i in np.arange(1, 4):\n",
    "    for j in np.arange(1,3):\n",
    "        prob.append((i+j)/21)\n",
    "        \n",
    "fxy = JPD(['X1', 'X2'],[3, 2], prob)\n",
    "print(fxy)"
   ]
  },
  {
   "cell_type": "code",
   "execution_count": 4,
   "metadata": {},
   "outputs": [
    {
     "data": {
      "text/plain": [
       "1.0"
      ]
     },
     "execution_count": 4,
     "metadata": {},
     "output_type": "execute_result"
    }
   ],
   "source": [
    "# 확률 밀도 함수 확인\n",
    "np.sum(fxy.values)"
   ]
  },
  {
   "cell_type": "code",
   "execution_count": 5,
   "metadata": {
    "scrolled": true
   },
   "outputs": [
    {
     "name": "stdout",
     "output_type": "stream",
     "text": [
      "+-------+---------+\n",
      "| X1    |   P(X1) |\n",
      "+=======+=========+\n",
      "| X1(0) |  0.2381 |\n",
      "+-------+---------+\n",
      "| X1(1) |  0.3333 |\n",
      "+-------+---------+\n",
      "| X1(2) |  0.4286 |\n",
      "+-------+---------+\n"
     ]
    }
   ],
   "source": [
    "# 주변 확률 구하기\n",
    "fx = fxy.marginal_distribution(['X1'], inplace=False)\n",
    "print(fx)"
   ]
  },
  {
   "cell_type": "markdown",
   "metadata": {},
   "source": [
    "[예제] $X_1=1$ 일 때 $X_2$ 의 조건부 확률"
   ]
  },
  {
   "cell_type": "code",
   "execution_count": 6,
   "metadata": {
    "scrolled": true
   },
   "outputs": [
    {
     "name": "stdout",
     "output_type": "stream",
     "text": [
      "+-------+---------+\n",
      "| X2    |   P(X2) |\n",
      "+=======+=========+\n",
      "| X2(0) |  0.4000 |\n",
      "+-------+---------+\n",
      "| X2(1) |  0.6000 |\n",
      "+-------+---------+\n"
     ]
    }
   ],
   "source": [
    "prob = fxy.conditional_distribution([('X1', 0)], inplace=False)\n",
    "print(prob)"
   ]
  },
  {
   "cell_type": "markdown",
   "metadata": {},
   "source": [
    "## 상관계수"
   ]
  },
  {
   "cell_type": "code",
   "execution_count": 7,
   "metadata": {},
   "outputs": [
    {
     "name": "stdout",
     "output_type": "stream",
     "text": [
      "+------+------+----------+\n",
      "| X    | Y    |   P(X,Y) |\n",
      "+======+======+==========+\n",
      "| X(0) | Y(0) |   0.1333 |\n",
      "+------+------+----------+\n",
      "| X(0) | Y(1) |   0.2667 |\n",
      "+------+------+----------+\n",
      "| X(0) | Y(2) |   0.2000 |\n",
      "+------+------+----------+\n",
      "| X(1) | Y(0) |   0.0667 |\n",
      "+------+------+----------+\n",
      "| X(1) | Y(1) |   0.0667 |\n",
      "+------+------+----------+\n",
      "| X(1) | Y(2) |   0.2667 |\n",
      "+------+------+----------+\n"
     ]
    }
   ],
   "source": [
    "# 결합확률 정의\n",
    "prob = np.array([2, 4, 3, 1, 1, 4])/15\n",
    "fxy = JPD(['X', 'Y'],[2, 3], prob)\n",
    "print(fxy)"
   ]
  },
  {
   "cell_type": "code",
   "execution_count": 8,
   "metadata": {},
   "outputs": [
    {
     "data": {
      "text/plain": [
       "1.0"
      ]
     },
     "execution_count": 8,
     "metadata": {},
     "output_type": "execute_result"
    }
   ],
   "source": [
    "# 확률 분포 확인\n",
    "np.sum(fxy.values)"
   ]
  },
  {
   "cell_type": "code",
   "execution_count": 9,
   "metadata": {
    "scrolled": true
   },
   "outputs": [
    {
     "name": "stdout",
     "output_type": "stream",
     "text": [
      "+------+--------+\n",
      "| X    |   P(X) |\n",
      "+======+========+\n",
      "| X(0) | 0.6000 |\n",
      "+------+--------+\n",
      "| X(1) | 0.4000 |\n",
      "+------+--------+\n"
     ]
    }
   ],
   "source": [
    "# X 주변 확률 구하기\n",
    "fx = fxy.marginal_distribution(['X'], inplace=False)\n",
    "print(fx)"
   ]
  },
  {
   "cell_type": "code",
   "execution_count": 10,
   "metadata": {},
   "outputs": [
    {
     "data": {
      "text/plain": [
       "1.4"
      ]
     },
     "execution_count": 10,
     "metadata": {},
     "output_type": "execute_result"
    }
   ],
   "source": [
    "# X의 기대값 구하기\n",
    "x = np.array([1, 2])\n",
    "EX = np.dot(x,fx.values )\n",
    "EX.round(3)"
   ]
  },
  {
   "cell_type": "code",
   "execution_count": 11,
   "metadata": {},
   "outputs": [
    {
     "data": {
      "text/plain": [
       "2.2"
      ]
     },
     "execution_count": 11,
     "metadata": {},
     "output_type": "execute_result"
    }
   ],
   "source": [
    "# X의 제곱 기대값 구하기\n",
    "EXX = np.dot(x*x, fx.values)\n",
    "EXX.round(3)"
   ]
  },
  {
   "cell_type": "code",
   "execution_count": 12,
   "metadata": {},
   "outputs": [
    {
     "data": {
      "text/plain": [
       "0.49"
      ]
     },
     "execution_count": 12,
     "metadata": {},
     "output_type": "execute_result"
    }
   ],
   "source": [
    "# X의 표준편차 구하기\n",
    "SDX = np.sqrt(EXX-EX**2)\n",
    "SDX.round(3)"
   ]
  },
  {
   "cell_type": "code",
   "execution_count": 13,
   "metadata": {},
   "outputs": [],
   "source": [
    "# Y의 주변 분포, 기대값, 제곱합, 표준편차\n",
    "\n",
    "# Y의 주변 분포\n",
    "fy = fxy.marginal_distribution(['Y'], inplace=False)\n",
    "\n",
    "# Y의 기대값\n",
    "y = np.array([1, 2, 3])\n",
    "EY = np.dot(y,fy.values )\n",
    "\n",
    "# Y의 제곱 기대값\n",
    "EYY = np.dot(y*y, fy.values)\n",
    "\n",
    "# Y의 표준편차\n",
    "SDY = np.sqrt(EYY-EY**2)"
   ]
  },
  {
   "cell_type": "code",
   "execution_count": 14,
   "metadata": {},
   "outputs": [
    {
     "data": {
      "text/plain": [
       "array([1, 2, 3, 2, 4, 6])"
      ]
     },
     "execution_count": 14,
     "metadata": {},
     "output_type": "execute_result"
    }
   ],
   "source": [
    "# 공분산 구하기\n",
    "# xy 값 구성\n",
    "xy = np.outer(x, y).reshape(-1,)\n",
    "xy"
   ]
  },
  {
   "cell_type": "code",
   "execution_count": 15,
   "metadata": {},
   "outputs": [
    {
     "data": {
      "text/plain": [
       "3.267"
      ]
     },
     "execution_count": 15,
     "metadata": {},
     "output_type": "execute_result"
    }
   ],
   "source": [
    "# XY 기대값\n",
    "EXY = np.dot(xy, fxy.values.reshape(-1, ))\n",
    "EXY.round(3)"
   ]
  },
  {
   "cell_type": "code",
   "execution_count": 16,
   "metadata": {},
   "outputs": [
    {
     "data": {
      "text/plain": [
       "0.093"
      ]
     },
     "execution_count": 16,
     "metadata": {},
     "output_type": "execute_result"
    }
   ],
   "source": [
    "# 공분산 계산\n",
    "CovXY = EXY - EX*EY\n",
    "CovXY.round(3)"
   ]
  },
  {
   "cell_type": "code",
   "execution_count": 17,
   "metadata": {},
   "outputs": [
    {
     "data": {
      "text/plain": [
       "0.247"
      ]
     },
     "execution_count": 17,
     "metadata": {},
     "output_type": "execute_result"
    }
   ],
   "source": [
    "# 상관계수 값\n",
    "rho = CovXY / (SDX * SDY)\n",
    "rho.round(3)"
   ]
  },
  {
   "cell_type": "code",
   "execution_count": 18,
   "metadata": {},
   "outputs": [
    {
     "data": {
      "text/plain": [
       "False"
      ]
     },
     "execution_count": 18,
     "metadata": {},
     "output_type": "execute_result"
    }
   ],
   "source": [
    "# 두 변수 간의 독립성 여부 확인\n",
    "fxy.check_independence(['X'], ['Y'])"
   ]
  }
 ],
 "metadata": {
  "kernelspec": {
   "display_name": "Python 3",
   "language": "python",
   "name": "python3"
  },
  "language_info": {
   "codemirror_mode": {
    "name": "ipython",
    "version": 3
   },
   "file_extension": ".py",
   "mimetype": "text/x-python",
   "name": "python",
   "nbconvert_exporter": "python",
   "pygments_lexer": "ipython3",
   "version": "3.7.6"
  }
 },
 "nbformat": 4,
 "nbformat_minor": 2
}
