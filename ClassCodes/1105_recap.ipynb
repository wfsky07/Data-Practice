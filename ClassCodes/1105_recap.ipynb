{
 "cells": [
  {
   "cell_type": "markdown",
   "metadata": {},
   "source": [
    "# 추론통계 순서"
   ]
  },
  {
   "cell_type": "code",
   "execution_count": 6,
   "metadata": {},
   "outputs": [],
   "source": [
    "import numpy as np\n",
    "import matplotlib.pyplot as plt\n",
    "from sklearn.linear_model import LinearRegression\n",
    "from sklearn.model_selection import train_test_split\n",
    "from sklearn.metrics import mean_squared_error, r2_score\n",
    "import pandas as pd"
   ]
  },
  {
   "cell_type": "code",
   "execution_count": 9,
   "metadata": {},
   "outputs": [
    {
     "data": {
      "text/html": [
       "<div>\n",
       "<style scoped>\n",
       "    .dataframe tbody tr th:only-of-type {\n",
       "        vertical-align: middle;\n",
       "    }\n",
       "\n",
       "    .dataframe tbody tr th {\n",
       "        vertical-align: top;\n",
       "    }\n",
       "\n",
       "    .dataframe thead th {\n",
       "        text-align: right;\n",
       "    }\n",
       "</style>\n",
       "<table border=\"1\" class=\"dataframe\">\n",
       "  <thead>\n",
       "    <tr style=\"text-align: right;\">\n",
       "      <th></th>\n",
       "      <th>x</th>\n",
       "      <th>y</th>\n",
       "    </tr>\n",
       "  </thead>\n",
       "  <tbody>\n",
       "    <tr>\n",
       "      <th>0</th>\n",
       "      <td>15</td>\n",
       "      <td>2</td>\n",
       "    </tr>\n",
       "    <tr>\n",
       "      <th>1</th>\n",
       "      <td>21</td>\n",
       "      <td>3</td>\n",
       "    </tr>\n",
       "    <tr>\n",
       "      <th>2</th>\n",
       "      <td>33</td>\n",
       "      <td>4</td>\n",
       "    </tr>\n",
       "    <tr>\n",
       "      <th>3</th>\n",
       "      <td>41</td>\n",
       "      <td>5</td>\n",
       "    </tr>\n",
       "    <tr>\n",
       "      <th>4</th>\n",
       "      <td>5</td>\n",
       "      <td>6</td>\n",
       "    </tr>\n",
       "  </tbody>\n",
       "</table>\n",
       "</div>"
      ],
      "text/plain": [
       "    x  y\n",
       "0  15  2\n",
       "1  21  3\n",
       "2  33  4\n",
       "3  41  5\n",
       "4   5  6"
      ]
     },
     "execution_count": 9,
     "metadata": {},
     "output_type": "execute_result"
    }
   ],
   "source": [
    "dic = {\n",
    "    \"x\": [15, 21, 33, 41, 5, 12, 29, 18, 9, 7, 13, 40, 30, 24, 20, 33, 45, 50, 51, 52, 53, 54, 55, 56, 57, 58, 59, 60],\n",
    "    \"y\": [2, 3, 4, 5, 6, 11, 1, 2, 2, 3, 4, 5, 6, 7, 8, 9, 10, 11, 12, 13, 14, 15, 16, 17, 18, 19, 20, 21]\n",
    "}\n",
    "\n",
    "df = pd.DataFrame(dic)\n",
    "df.head()"
   ]
  },
  {
   "cell_type": "code",
   "execution_count": null,
   "metadata": {},
   "outputs": [],
   "source": [
    "################\n",
    "### df는 분석할 가치가 있는가? \n",
    "### 데이터의 분포(기술통계, groupby)나 관계성을 시각화(EDA)를 통해 확인\n",
    "################"
   ]
  },
  {
   "cell_type": "code",
   "execution_count": 20,
   "metadata": {},
   "outputs": [],
   "source": [
    "################\n",
    "### 결측치, 전처리(파생변수, 변수결합, 2개이상 다른파일 결합(join))\n",
    "################"
   ]
  },
  {
   "cell_type": "code",
   "execution_count": 21,
   "metadata": {},
   "outputs": [],
   "source": [
    "################\n",
    "### 데이터 정규성, 상관관계 정규성, 검증통계량 x변수 선택\n",
    "################"
   ]
  },
  {
   "cell_type": "code",
   "execution_count": 19,
   "metadata": {},
   "outputs": [],
   "source": [
    "################\n",
    "### 데이터 데이터셋의 정규화(1000->1, 10->1), 전처리, 문자를 숫자로 인코딩(변환)\n",
    "################"
   ]
  },
  {
   "cell_type": "code",
   "execution_count": 15,
   "metadata": {},
   "outputs": [
    {
     "data": {
      "text/plain": [
       "(22, 6, 22, 6)"
      ]
     },
     "execution_count": 15,
     "metadata": {},
     "output_type": "execute_result"
    }
   ],
   "source": [
    "################\n",
    "### 표본 추출\n",
    "### 훈련 데이터 (wx+b 모델에 들어가는 x값)\n",
    "################\n",
    "\n",
    "# 학습용 데이터와 테스트용 데이터로 나누기\n",
    "x = np.array(df[\"x\"]).reshape(-1, 1) # 2차원 배열로 변환 [1,2,3,3]는 (4행, ) -> [ [1], [2], [3], [3] ] (4행, 1열)\n",
    "y = np.array(df[\"y\"])\n",
    "X_train, X_test, y_train, y_test = train_test_split(x, y, test_size=0.2, random_state=10)\n",
    "len(X_train), len(X_test), len(y_train), len(y_test)"
   ]
  },
  {
   "cell_type": "code",
   "execution_count": 18,
   "metadata": {},
   "outputs": [
    {
     "data": {
      "text/plain": [
       "(array([0.29425431]), -1.157419614195435)"
      ]
     },
     "execution_count": 18,
     "metadata": {},
     "output_type": "execute_result"
    }
   ],
   "source": [
    "model = LinearRegression().fit(X_train, y_train)\n",
    "w = model.coef_\n",
    "b = model.intercept_\n",
    "w, b"
   ]
  },
  {
   "cell_type": "code",
   "execution_count": 24,
   "metadata": {},
   "outputs": [
    {
     "data": {
      "text/plain": [
       "array([ 4.13915804, 14.73231335,  2.37363216,  8.55297275,  5.90468393,\n",
       "       14.14380472])"
      ]
     },
     "execution_count": 24,
     "metadata": {},
     "output_type": "execute_result"
    }
   ],
   "source": [
    "################\n",
    "### 테스트 표본 데이터에 wx+b 모델을 넣어서 오차 확인\n",
    "################\n",
    "y_pred = model.predict(X_test)\n",
    "y_pred  # X_test에 대한 예측값 -> X_test * w + b"
   ]
  },
  {
   "cell_type": "code",
   "execution_count": null,
   "metadata": {},
   "outputs": [],
   "source": [
    "################\n",
    "### 모델 시각화\n",
    "################\n"
   ]
  },
  {
   "cell_type": "code",
   "execution_count": null,
   "metadata": {},
   "outputs": [],
   "source": []
  },
  {
   "cell_type": "code",
   "execution_count": 26,
   "metadata": {},
   "outputs": [
    {
     "data": {
      "text/html": [
       "<table class=\"simpletable\">\n",
       "<caption>OLS Regression Results</caption>\n",
       "<tr>\n",
       "  <th>Dep. Variable:</th>            <td>y</td>        <th>  R-squared (uncentered):</th>      <td>   0.919</td>\n",
       "</tr>\n",
       "<tr>\n",
       "  <th>Model:</th>                   <td>OLS</td>       <th>  Adj. R-squared (uncentered):</th> <td>   0.915</td>\n",
       "</tr>\n",
       "<tr>\n",
       "  <th>Method:</th>             <td>Least Squares</td>  <th>  F-statistic:       </th>          <td>   237.0</td>\n",
       "</tr>\n",
       "<tr>\n",
       "  <th>Date:</th>             <td>Tue, 05 Nov 2024</td> <th>  Prob (F-statistic):</th>          <td>6.50e-13</td>\n",
       "</tr>\n",
       "<tr>\n",
       "  <th>Time:</th>                 <td>10:18:57</td>     <th>  Log-Likelihood:    </th>          <td> -57.476</td>\n",
       "</tr>\n",
       "<tr>\n",
       "  <th>No. Observations:</th>      <td>    22</td>      <th>  AIC:               </th>          <td>   117.0</td>\n",
       "</tr>\n",
       "<tr>\n",
       "  <th>Df Residuals:</th>          <td>    21</td>      <th>  BIC:               </th>          <td>   118.0</td>\n",
       "</tr>\n",
       "<tr>\n",
       "  <th>Df Model:</th>              <td>     1</td>      <th>                     </th>              <td> </td>   \n",
       "</tr>\n",
       "<tr>\n",
       "  <th>Covariance Type:</th>      <td>nonrobust</td>    <th>                     </th>              <td> </td>   \n",
       "</tr>\n",
       "</table>\n",
       "<table class=\"simpletable\">\n",
       "<tr>\n",
       "   <td></td>     <th>coef</th>     <th>std err</th>      <th>t</th>      <th>P>|t|</th>  <th>[0.025</th>    <th>0.975]</th>  \n",
       "</tr>\n",
       "<tr>\n",
       "  <th>x1</th> <td>    0.2692</td> <td>    0.017</td> <td>   15.396</td> <td> 0.000</td> <td>    0.233</td> <td>    0.306</td>\n",
       "</tr>\n",
       "</table>\n",
       "<table class=\"simpletable\">\n",
       "<tr>\n",
       "  <th>Omnibus:</th>       <td> 0.788</td> <th>  Durbin-Watson:     </th> <td>   1.815</td>\n",
       "</tr>\n",
       "<tr>\n",
       "  <th>Prob(Omnibus):</th> <td> 0.674</td> <th>  Jarque-Bera (JB):  </th> <td>   0.811</td>\n",
       "</tr>\n",
       "<tr>\n",
       "  <th>Skew:</th>          <td>-0.322</td> <th>  Prob(JB):          </th> <td>   0.667</td>\n",
       "</tr>\n",
       "<tr>\n",
       "  <th>Kurtosis:</th>      <td> 2.314</td> <th>  Cond. No.          </th> <td>    1.00</td>\n",
       "</tr>\n",
       "</table><br/><br/>Notes:<br/>[1] R² is computed without centering (uncentered) since the model does not contain a constant.<br/>[2] Standard Errors assume that the covariance matrix of the errors is correctly specified."
      ],
      "text/latex": [
       "\\begin{center}\n",
       "\\begin{tabular}{lclc}\n",
       "\\toprule\n",
       "\\textbf{Dep. Variable:}    &        y         & \\textbf{  R-squared (uncentered):}      &     0.919   \\\\\n",
       "\\textbf{Model:}            &       OLS        & \\textbf{  Adj. R-squared (uncentered):} &     0.915   \\\\\n",
       "\\textbf{Method:}           &  Least Squares   & \\textbf{  F-statistic:       }          &     237.0   \\\\\n",
       "\\textbf{Date:}             & Tue, 05 Nov 2024 & \\textbf{  Prob (F-statistic):}          &  6.50e-13   \\\\\n",
       "\\textbf{Time:}             &     10:18:57     & \\textbf{  Log-Likelihood:    }          &   -57.476   \\\\\n",
       "\\textbf{No. Observations:} &          22      & \\textbf{  AIC:               }          &     117.0   \\\\\n",
       "\\textbf{Df Residuals:}     &          21      & \\textbf{  BIC:               }          &     118.0   \\\\\n",
       "\\textbf{Df Model:}         &           1      & \\textbf{                     }          &             \\\\\n",
       "\\textbf{Covariance Type:}  &    nonrobust     & \\textbf{                     }          &             \\\\\n",
       "\\bottomrule\n",
       "\\end{tabular}\n",
       "\\begin{tabular}{lcccccc}\n",
       "            & \\textbf{coef} & \\textbf{std err} & \\textbf{t} & \\textbf{P$> |$t$|$} & \\textbf{[0.025} & \\textbf{0.975]}  \\\\\n",
       "\\midrule\n",
       "\\textbf{x1} &       0.2692  &        0.017     &    15.396  &         0.000        &        0.233    &        0.306     \\\\\n",
       "\\bottomrule\n",
       "\\end{tabular}\n",
       "\\begin{tabular}{lclc}\n",
       "\\textbf{Omnibus:}       &  0.788 & \\textbf{  Durbin-Watson:     } &    1.815  \\\\\n",
       "\\textbf{Prob(Omnibus):} &  0.674 & \\textbf{  Jarque-Bera (JB):  } &    0.811  \\\\\n",
       "\\textbf{Skew:}          & -0.322 & \\textbf{  Prob(JB):          } &    0.667  \\\\\n",
       "\\textbf{Kurtosis:}      &  2.314 & \\textbf{  Cond. No.          } &     1.00  \\\\\n",
       "\\bottomrule\n",
       "\\end{tabular}\n",
       "%\\caption{OLS Regression Results}\n",
       "\\end{center}\n",
       "\n",
       "Notes: \\newline\n",
       " [1] R² is computed without centering (uncentered) since the model does not contain a constant. \\newline\n",
       " [2] Standard Errors assume that the covariance matrix of the errors is correctly specified."
      ],
      "text/plain": [
       "<class 'statsmodels.iolib.summary.Summary'>\n",
       "\"\"\"\n",
       "                                 OLS Regression Results                                \n",
       "=======================================================================================\n",
       "Dep. Variable:                      y   R-squared (uncentered):                   0.919\n",
       "Model:                            OLS   Adj. R-squared (uncentered):              0.915\n",
       "Method:                 Least Squares   F-statistic:                              237.0\n",
       "Date:                Tue, 05 Nov 2024   Prob (F-statistic):                    6.50e-13\n",
       "Time:                        10:18:57   Log-Likelihood:                         -57.476\n",
       "No. Observations:                  22   AIC:                                      117.0\n",
       "Df Residuals:                      21   BIC:                                      118.0\n",
       "Df Model:                           1                                                  \n",
       "Covariance Type:            nonrobust                                                  \n",
       "==============================================================================\n",
       "                 coef    std err          t      P>|t|      [0.025      0.975]\n",
       "------------------------------------------------------------------------------\n",
       "x1             0.2692      0.017     15.396      0.000       0.233       0.306\n",
       "==============================================================================\n",
       "Omnibus:                        0.788   Durbin-Watson:                   1.815\n",
       "Prob(Omnibus):                  0.674   Jarque-Bera (JB):                0.811\n",
       "Skew:                          -0.322   Prob(JB):                        0.667\n",
       "Kurtosis:                       2.314   Cond. No.                         1.00\n",
       "==============================================================================\n",
       "\n",
       "Notes:\n",
       "[1] R² is computed without centering (uncentered) since the model does not contain a constant.\n",
       "[2] Standard Errors assume that the covariance matrix of the errors is correctly specified.\n",
       "\"\"\""
      ]
     },
     "execution_count": 26,
     "metadata": {},
     "output_type": "execute_result"
    }
   ],
   "source": [
    "################\n",
    "### 모델 평가 - 모델 검증하는 방법 (추론통계)\n",
    "### x값의 p-value가 0.05보다 작으면 x값이 y에 영향을 미친다.(귀무가설 기각) (귀무가설: x값이 y에 영향을 미치지 않는다.)\n",
    "### 이 모델의 편차가 얼마나 작은가? r2_score가 1에 가까울수록 모델이 데이터를 잘 설명한다.\n",
    "### 만약, 귀무가설이 채택되는 상황이면, x변수를 제외하거나 필터로 값을 변경해야 함. 모델이 잘나올때까지 위의 과정들을 무한반복\n",
    "################\n",
    "import statsmodels.api as sm\n",
    "model = sm.OLS(y_train, X_train).fit()\n",
    "model.summary()"
   ]
  },
  {
   "cell_type": "code",
   "execution_count": null,
   "metadata": {},
   "outputs": [],
   "source": []
  }
 ],
 "metadata": {
  "kernelspec": {
   "display_name": "kpmg_class",
   "language": "python",
   "name": "python3"
  },
  "language_info": {
   "codemirror_mode": {
    "name": "ipython",
    "version": 3
   },
   "file_extension": ".py",
   "mimetype": "text/x-python",
   "name": "python",
   "nbconvert_exporter": "python",
   "pygments_lexer": "ipython3",
   "version": "3.8.20"
  }
 },
 "nbformat": 4,
 "nbformat_minor": 2
}
